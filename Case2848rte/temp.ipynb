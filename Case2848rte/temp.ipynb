{
 "cells": [
  {
   "cell_type": "code",
   "execution_count": 1,
   "metadata": {},
   "outputs": [],
   "source": [
    "import numpy as np\n",
    "import pandas as pd"
   ]
  },
  {
   "cell_type": "code",
   "execution_count": 2,
   "metadata": {},
   "outputs": [],
   "source": [
    "var = []\n",
    "for i in range(1, 5):\n",
    "    var.append(np.random.randn(10))"
   ]
  },
  {
   "cell_type": "code",
   "execution_count": 3,
   "metadata": {},
   "outputs": [
    {
     "data": {
      "text/plain": [
       "[array([-1.38794136,  0.06111014, -0.43533479,  0.28774957,  1.25472689,\n",
       "         0.43061538, -1.43161533, -0.76150247, -0.86182293,  0.50176914]),\n",
       " array([-0.79039543, -0.8471555 , -0.86898833, -1.55778883,  0.32996202,\n",
       "        -0.52954841, -1.85394385,  0.35278724,  0.20582409,  0.0432222 ]),\n",
       " array([ 0.85832414,  0.31265151, -0.37642964,  1.41108331, -1.5946581 ,\n",
       "         0.87442979, -1.56672134,  1.67282644,  0.26494401, -0.12140464]),\n",
       " array([ 1.00061468, -1.08791077,  0.26155639,  0.3494157 , -0.63085407,\n",
       "         1.99916864,  0.84720016,  0.59726546,  1.64562583,  1.31440367])]"
      ]
     },
     "execution_count": 3,
     "metadata": {},
     "output_type": "execute_result"
    }
   ],
   "source": [
    "var"
   ]
  },
  {
   "cell_type": "code",
   "execution_count": 6,
   "metadata": {},
   "outputs": [
    {
     "data": {
      "text/plain": [
       "array([[-1.38794136,  0.06111014, -0.43533479,  0.28774957,  1.25472689,\n",
       "         0.43061538, -1.43161533, -0.76150247, -0.86182293,  0.50176914],\n",
       "       [-0.79039543, -0.8471555 , -0.86898833, -1.55778883,  0.32996202,\n",
       "        -0.52954841, -1.85394385,  0.35278724,  0.20582409,  0.0432222 ],\n",
       "       [ 0.85832414,  0.31265151, -0.37642964,  1.41108331, -1.5946581 ,\n",
       "         0.87442979, -1.56672134,  1.67282644,  0.26494401, -0.12140464],\n",
       "       [ 1.00061468, -1.08791077,  0.26155639,  0.3494157 , -0.63085407,\n",
       "         1.99916864,  0.84720016,  0.59726546,  1.64562583,  1.31440367]])"
      ]
     },
     "execution_count": 6,
     "metadata": {},
     "output_type": "execute_result"
    }
   ],
   "source": [
    "np.array(var)"
   ]
  }
 ],
 "metadata": {
  "kernelspec": {
   "display_name": "PyG-gpu",
   "language": "python",
   "name": "python3"
  },
  "language_info": {
   "codemirror_mode": {
    "name": "ipython",
    "version": 3
   },
   "file_extension": ".py",
   "mimetype": "text/x-python",
   "name": "python",
   "nbconvert_exporter": "python",
   "pygments_lexer": "ipython3",
   "version": "3.11.5"
  }
 },
 "nbformat": 4,
 "nbformat_minor": 2
}
