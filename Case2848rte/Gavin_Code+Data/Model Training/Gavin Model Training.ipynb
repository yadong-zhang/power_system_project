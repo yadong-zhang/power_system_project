{
 "cells": [
  {
   "cell_type": "code",
   "execution_count": 16,
   "metadata": {},
   "outputs": [],
   "source": [
    "import time\n",
    "import logging\n",
    "\n",
    "import numpy as np\n",
    "import pandas as pd\n",
    "import matplotlib.pyplot as plt\n",
    "\n",
    "import seaborn as sns\n",
    "\n",
    "import torch\n",
    "from torch.functional import F\n",
    "from torch_geometric.nn import GCNConv, to_hetero, GATConv\n",
    "from torch_geometric.data import Data\n",
    "from torch_geometric import transforms as T\n",
    "from torch_geometric.utils import is_undirected\n",
    "from torch_geometric.utils.convert import to_networkx\n",
    "import networkx as nx\n",
    "\n",
    "from prettytable import PrettyTable"
   ]
  },
  {
   "cell_type": "markdown",
   "metadata": {},
   "source": [
    "#### Load train dataset"
   ]
  },
  {
   "cell_type": "code",
   "execution_count": 17,
   "metadata": {},
   "outputs": [
    {
     "data": {
      "text/plain": [
       "HeteroData(\n",
       "  node={\n",
       "    x=[118, 8],\n",
       "    y=[118],\n",
       "  },\n",
       "  (node, branch, node)={\n",
       "    edge_index=[2, 173],\n",
       "    edge_attr=[173, 3],\n",
       "  },\n",
       "  (node, trafo, node)={\n",
       "    edge_index=[2, 13],\n",
       "    edge_attr=[13, 5],\n",
       "  }\n",
       ")"
      ]
     },
     "execution_count": 17,
     "metadata": {},
     "output_type": "execute_result"
    }
   ],
   "source": [
    "train_dataset = torch.load(r'c:\\Users\\gavin\\Desktop\\power_system_project-main\\ref_code\\yadong-zhang power_system_project main ref_code-train_test_dataset\\node_prediction_train_dataset.pt')\n",
    "# C:train_test_dataset/node_prediction_train_dataset.pt\n",
    "data = train_dataset.dataset[0]\n",
    "data"
   ]
  },
  {
   "cell_type": "markdown",
   "metadata": {},
   "source": [
    "#### Create GNN model"
   ]
  },
  {
   "cell_type": "code",
   "execution_count": 18,
   "metadata": {},
   "outputs": [],
   "source": [
    "## Custom loss function\n",
    "class customLoss(torch.nn.Module):\n",
    "    def __init__(self):\n",
    "        super().__init__()\n",
    "    \n",
    "    def forward(self, y_pred, y_max_gen, y_min_gen, y_true):\n",
    "        loss1 = F.mse_loss(y_pred, y_true)  # Equality constraint\n",
    "        loss2 = torch.sum(torch.min(y_pred - y_min_gen, torch.zeros((y_pred.shape[0])))) # Inequality constraint, lower constraint\n",
    "        loss3 = torch.sum(torch.max(y_pred - y_max_gen, torch.zeros((y_pred.shape[0])))) # Inequality constraint, upper constraint\n",
    "\n",
    "        loss = loss1 - 1.5*loss2 + 1.5*loss3    # Overall loss\n",
    "\n",
    "        return loss"
   ]
  },
  {
   "cell_type": "code",
   "execution_count": 19,
   "metadata": {},
   "outputs": [],
   "source": [
    "## Clamp layer\n",
    "import torch\n",
    "class ClampLayer(torch.nn.Module):\n",
    "    def __init__(self, min_value=-594, max_value=594):\n",
    "        super(ClampLayer, self).__init__()\n",
    "        self.min_value = min_value\n",
    "        self.max_value = max_value\n",
    "\n",
    "    def forward(self, x):\n",
    "        return torch.clamp(x, self.min_value, self.max_value)"
   ]
  },
  {
   "cell_type": "code",
   "execution_count": 20,
   "metadata": {},
   "outputs": [],
   "source": [
    "class GNN_model(torch.nn.Module):\n",
    "    def __init__(self):\n",
    "        super(GNN_model, self).__init__()\n",
    "        self.conv1 = GCNConv(8, 4)\n",
    "        self.conv2 = GCNConv(4, 2)\n",
    "        self.conv3 = GCNConv(2, 1)\n",
    "        self.flatten = torch.nn.Flatten(start_dim=0)\n",
    "        self.lin = torch.nn.Linear(in_features=118, out_features=118)\n",
    "        # self.clamp = ClampLayer(-594, 594)\n",
    "        \n",
    "    def forward(self, x, edge_index):\n",
    "        x = F.leaky_relu(self.conv1(x, edge_index))\n",
    "        x = F.leaky_relu(self.conv2(x, edge_index))\n",
    "        x = F.leaky_relu(self.conv3(x, edge_index))\n",
    "        x = self.flatten(x)\n",
    "        x = self.lin(x)\n",
    "        # Physical constraints\n",
    "        # x = self.clamp(x)\n",
    "\n",
    "        return x"
   ]
  },
  {
   "cell_type": "markdown",
   "metadata": {},
   "source": [
    "#### Model training"
   ]
  },
  {
   "cell_type": "code",
   "execution_count": 21,
   "metadata": {},
   "outputs": [
    {
     "data": {
      "text/plain": [
       "[<matplotlib.lines.Line2D at 0x1e6612a6a20>]"
      ]
     },
     "execution_count": 21,
     "metadata": {},
     "output_type": "execute_result"
    },
    {
     "data": {
      "image/png": "[encoded data removed]",
      "text/plain": [
       "<Figure size 640x480 with 1 Axes>"
      ]
     },
     "metadata": {},
     "output_type": "display_data"
    }
   ],
   "source": [
    "# Set device\n",
    "device = 'cuda' if torch.cuda.is_available() else 'cpu'\n",
    "\n",
    "# Instance the model\n",
    "# model = GCN_model(batch_size=batch_size, \n",
    "#                   num_nodes=num_nodes,\n",
    "#                   in_features=num_node_features, \n",
    "#                   out_features=num_y_features)\n",
    "model = GNN_model()\n",
    "# model = to_hetero_with_bases(model, data.metadata(), num_bases=1)\n",
    "model = to_hetero(model, data.metadata(), aggr='mean')\n",
    "model.to(device)\n",
    "\n",
    "# Custom loss\n",
    "# custom_loss = customLoss()\n",
    "\n",
    "# Set optimizer\n",
    "optimizer = torch.optim.Adam(model.parameters(), lr=0.001, weight_decay=1e-4)\n",
    "\n",
    "# Set number of epochs\n",
    "epochs = 10\n",
    "\n",
    "# Max_alowed_pf\n",
    "max_allowed_pf = torch.tensor([594.])\n",
    "\n",
    "# Set model to training mode\n",
    "model.train()\n",
    "\n",
    "## Train and test the model\n",
    "epoch_loss = []\n",
    "start_time = time.time()\n",
    "for epoch in range(epochs):\n",
    "    batch_loss = []\n",
    "    for batch_data in train_dataset.dataset:\n",
    "        batch_data.to(device)\n",
    "        # batch_data = T.ToUndirected()(batch_data)\n",
    "        # batch_data = T.AddSelfLoops()(batch_data)\n",
    "        optimizer.zero_grad()\n",
    "        # out, y_gen, y_max_gen, y_min_gen = model(batch_data.x_dict, batch_data.edge_index_dict)\n",
    "        y_pred = model(batch_data.x_dict, batch_data.edge_index_dict)\n",
    "        # y_gen_max = batch_data.x_dict['node'][[0, 1, 2, 5, 7], 2]\n",
    "        # y_gen_min = batch_data.x_dict['node'][[0, 1, 2, 5, 7], 3]\n",
    "\n",
    "        loss = F.mse_loss(y_pred['node'], batch_data['node'].y)\n",
    "        # loss = custom_loss(y_pred['node'], y_gen_max, y_gen_min, batch_data['node'].y)\n",
    "        loss.backward()\n",
    "        optimizer.step()\n",
    "        batch_loss.append(loss.item())\n",
    "    epoch_loss.append(np.mean(batch_loss))\n",
    "\n",
    "end_time = time.time()\n",
    "training_time = (end_time - start_time)/60"
   ]
  },
  {
   "cell_type": "code",
   "execution_count": 22,
   "metadata": {},
   "outputs": [
    {
     "data": {
      "image/png": "[encoded data removed]",
      "text/plain": [
       "<Figure size 600x300 with 1 Axes>"
      ]
     },
     "metadata": {},
     "output_type": "display_data"
    }
   ],
   "source": [
    "plt.figure(figsize=(6, 3))\n",
    "# Don't forget to change training time\n",
    "plt.title(f'Batch size = {1}, epochs: {epochs}, training time: {training_time:.2f} mins')\n",
    "plt.plot(epoch_loss)\n",
    "plt.yscale('log')\n",
    "plt.xlabel('Epochs')\n",
    "plt.ylabel('MSE loss')\n",
    "plt.tight_layout()\n",
    "# plt.savefig(f'node_prediction_loss.jpg')"
   ]
  },
  {
   "cell_type": "code",
   "execution_count": null,
   "metadata": {},
   "outputs": [],
   "source": [
    "torch.save(model, r'C:\\Users\\gavin\\Desktop\\power_system_project-main\\ref_code\\yadong-zhang power_system_project main ref_code-train_test_dataset/node_prediction_model_trained.pt''node_prediction_model_trained.pt')\n",
    "# node_prediction_model_trained.pt"
   ]
  }
 ],
 "metadata": {
  "kernelspec": {
   "display_name": "Python 3.8.13 ('PyG-cpu')",
   "language": "python",
   "name": "python3"
  },
  "language_info": {
   "codemirror_mode": {
    "name": "ipython",
    "version": 3
   },
   "file_extension": ".py",
   "mimetype": "text/x-python",
   "name": "python",
   "nbconvert_exporter": "python",
   "pygments_lexer": "ipython3",
   "version": "3.12.1"
  },
  "orig_nbformat": 4,
  "vscode": {
   "interpreter": {
    "hash": "0ebd134e15d76493047932f0f66970ea5bf0c8c21adec6bf2f9cae99b663e329"
   }
  }
 },
 "nbformat": 4,
 "nbformat_minor": 2
}
