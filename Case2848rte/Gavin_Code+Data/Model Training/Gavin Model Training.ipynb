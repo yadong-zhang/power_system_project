version https://git-lfs.github.com/spec/v1
oid sha256:8a70003352bb5fcacbe8d5a763f2364d21bda3f19f50a52a415da7275127dada
size 57256
