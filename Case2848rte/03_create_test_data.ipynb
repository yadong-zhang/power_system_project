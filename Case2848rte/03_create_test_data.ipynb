{
 "cells": [
  {
   "cell_type": "code",
   "execution_count": 1,
   "metadata": {},
   "outputs": [],
   "source": [
    "import os\n",
    "import shutil\n",
    "import random\n",
    "import numpy as np\n",
    "import pandas as pd\n",
    "import torch\n",
    "from torch_geometric.data import HeteroData"
   ]
  },
  {
   "cell_type": "markdown",
   "metadata": {},
   "source": [
    "#### Set random seed"
   ]
  },
  {
   "cell_type": "code",
   "execution_count": 2,
   "metadata": {},
   "outputs": [],
   "source": [
    "seed = 10\n",
    "random.seed(seed)\n",
    "np.random.seed(seed)\n",
    "torch.manual_seed(seed)\n",
    "torch.cuda.manual_seed_all(seed)"
   ]
  },
  {
   "cell_type": "markdown",
   "metadata": {},
   "source": [
    "#### Load graph structure"
   ]
  },
  {
   "cell_type": "code",
   "execution_count": 3,
   "metadata": {},
   "outputs": [],
   "source": [
    "# Load graph_structure data: node features, edge_features and edge_index\n",
    "graph_structure = pd.read_csv('graph_structure/graph_structure.csv', \n",
    "                              index_col=0, \n",
    "                              header=0).astype(float).fillna(value=0)\n",
    "branch_index = pd.read_csv('graph_structure/branch_index.csv', \n",
    "                           index_col=0, \n",
    "                           header=0).to_numpy()\n",
    "trafo_index = pd.read_csv('graph_structure/trafo_index.csv', \n",
    "                          index_col=0, \n",
    "                          header=0).to_numpy()\n",
    "branch_attr_normalized = pd.read_csv('graph_structure/branch_attr_normalized.csv', \n",
    "                                     index_col=0, \n",
    "                                     header=0).to_numpy()\n",
    "trafo_attr_normalized = pd.read_csv('graph_structure/trafo_attr_normalized.csv', \n",
    "                                    index_col=0, \n",
    "                                    header=0).to_numpy()\n",
    "\n",
    "## Convert edge index to torch tensors\n",
    "branch_index = torch.tensor(branch_index.T, dtype=torch.long)\n",
    "trafo_index = torch.tensor(trafo_index.T, dtype=torch.long)"
   ]
  },
  {
   "cell_type": "markdown",
   "metadata": {},
   "source": [
    "#### Load normalized demand and generation data"
   ]
  },
  {
   "cell_type": "code",
   "execution_count": 4,
   "metadata": {},
   "outputs": [
    {
     "data": {
      "text/plain": [
       "((1388, 300), (369, 300), (369, 300))"
      ]
     },
     "execution_count": 4,
     "metadata": {},
     "output_type": "execute_result"
    }
   ],
   "source": [
    "# Read load data\n",
    "load_test_normalized = pd.read_csv('normalized_data/load_test_normalized.csv', \n",
    "                                    index_col=0, header=0).to_numpy()\n",
    "\n",
    "# Load generation data\n",
    "gen_test_normalized = pd.read_csv('normalized_data/gen_test_normalized.csv', \n",
    "                                    index_col=0, header=0).to_numpy()\n",
    "\n",
    "# Load max generation data\n",
    "max_gen_test_normalized = pd.read_csv('normalized_data/max_gen_test_normalized.csv', \n",
    "                                        index_col=0, header=0).to_numpy()\n",
    "\n",
    "load_test_normalized.shape, gen_test_normalized.shape, max_gen_test_normalized.shape"
   ]
  },
  {
   "cell_type": "markdown",
   "metadata": {},
   "source": [
    "#### Read gen and load buses"
   ]
  },
  {
   "cell_type": "code",
   "execution_count": 5,
   "metadata": {},
   "outputs": [
    {
     "data": {
      "text/plain": [
       "((152,), (369,), (2848,), (2848,), (2848,))"
      ]
     },
     "execution_count": 5,
     "metadata": {},
     "output_type": "execute_result"
    }
   ],
   "source": [
    "# Load wind bus bidx\n",
    "wind_bus = pd.read_csv('graph_structure/_wind_bus.csv', \n",
    "                       index_col=None, \n",
    "                       header=None).to_numpy().flatten()\n",
    "wind_bus_bidx = pd.read_csv('graph_structure/_wind_bus_bidx.csv', \n",
    "                            index_col=None, \n",
    "                            header=None).to_numpy().astype(bool).flatten()\n",
    "wind_bus_in_all_bidx = pd.read_csv('graph_structure/_wind_bus_in_all_bidx.csv', \n",
    "                                   index_col=None, \n",
    "                                   header=None).to_numpy().astype(bool).flatten()\n",
    "\n",
    "# Load gen and load bus bidx\n",
    "gen_bus_bidx = pd.read_csv('graph_structure/_gen_bus_bidx.csv', \n",
    "                           index_col=None, \n",
    "                           header=None).to_numpy().astype(bool).flatten()\n",
    "load_bus_bidx = pd.read_csv('graph_structure/_load_bus_bidx.csv', \n",
    "                            index_col=None, \n",
    "                            header=None).to_numpy().astype(bool).flatten()\n",
    "\n",
    "wind_bus.shape, wind_bus_bidx.shape, wind_bus_in_all_bidx.shape, gen_bus_bidx.shape, load_bus_bidx.shape"
   ]
  },
  {
   "attachments": {},
   "cell_type": "markdown",
   "metadata": {},
   "source": [
    "#### Generate testing data"
   ]
  },
  {
   "cell_type": "code",
   "execution_count": 6,
   "metadata": {},
   "outputs": [],
   "source": [
    "## Load thermal generator bidx\n",
    "thermal_bus_bidx = pd.read_csv('graph_structure/_thermal_bus_bidx.csv',\n",
    "                                index_col=None,\n",
    "                                header=None).to_numpy().astype(bool).flatten()\n",
    "\n",
    "## Create traing mask\n",
    "mask = torch.tensor(thermal_bus_bidx, dtype=torch.bool)"
   ]
  },
  {
   "cell_type": "code",
   "execution_count": 7,
   "metadata": {},
   "outputs": [],
   "source": [
    "# Store multiple Data() in a list\n",
    "data_list = []\n",
    "\n",
    "test_size = load_test_normalized.shape[1]\n",
    "\n",
    "for i in range(test_size):\n",
    "    graph_structure['load_p_mw'][load_bus_bidx] = load_test_normalized[:, i]\n",
    "    graph_structure['max_gen_p_mw'][gen_bus_bidx] = max_gen_test_normalized[:, i]\n",
    "    graph_structure['min_gen_p_mw'][wind_bus_in_all_bidx] = max_gen_test_normalized[wind_bus_bidx, i]\n",
    "\n",
    "    X = graph_structure.to_numpy()\n",
    "    X = torch.from_numpy(X).float()\n",
    "    \n",
    "    y = gen_test_normalized[~wind_bus_bidx, i]\n",
    "    y = torch.from_numpy(y.flatten()).float()\n",
    "\n",
    "    data = HeteroData()\n",
    "    data['node'].x = X\n",
    "    data['node'].y = y\n",
    "    data.mask = mask\n",
    "\n",
    "    # Set edge index\n",
    "    data['node', 'branch', 'node'].edge_index = branch_index\n",
    "    data['node', 'trafo', 'node'].edge_index = trafo_index\n",
    "    data['node', 'branch', 'node'].edge_attr = torch.from_numpy(branch_attr_normalized).float()\n",
    "    data['node', 'trafo', 'node'].edge_attr = torch.from_numpy(trafo_attr_normalized).float()\n",
    "    \n",
    "    data_list.append(data)"
   ]
  },
  {
   "cell_type": "markdown",
   "metadata": {},
   "source": [
    "#### Generate train dataset"
   ]
  },
  {
   "cell_type": "code",
   "execution_count": 8,
   "metadata": {},
   "outputs": [
    {
     "name": "stdout",
     "output_type": "stream",
     "text": [
      "The old dataset has been deleted!\n"
     ]
    }
   ],
   "source": [
    "dir = f'test_dataset'\n",
    "if not os.path.exists(dir):\n",
    "    print(f'There is no such firectory!')\n",
    "else:\n",
    "    shutil.rmtree(dir)\n",
    "    print(f'The old dataset has been deleted!')"
   ]
  },
  {
   "cell_type": "code",
   "execution_count": 9,
   "metadata": {},
   "outputs": [
    {
     "name": "stderr",
     "output_type": "stream",
     "text": [
      "Processing...\n",
      "Done!\n"
     ]
    },
    {
     "data": {
      "text/plain": [
       "CustomDataset(300)"
      ]
     },
     "execution_count": 9,
     "metadata": {},
     "output_type": "execute_result"
    }
   ],
   "source": [
    "from CustomDataset import CustomDataset\n",
    "CustomDataset(root=dir, data_list=data_list)"
   ]
  }
 ],
 "metadata": {
  "kernelspec": {
   "display_name": "Python 3.8.13 ('PyG-cpu')",
   "language": "python",
   "name": "python3"
  },
  "language_info": {
   "codemirror_mode": {
    "name": "ipython",
    "version": 3
   },
   "file_extension": ".py",
   "mimetype": "text/x-python",
   "name": "python",
   "nbconvert_exporter": "python",
   "pygments_lexer": "ipython3",
   "version": "3.9.6"
  },
  "orig_nbformat": 4,
  "vscode": {
   "interpreter": {
    "hash": "0ebd134e15d76493047932f0f66970ea5bf0c8c21adec6bf2f9cae99b663e329"
   }
  }
 },
 "nbformat": 4,
 "nbformat_minor": 2
}
