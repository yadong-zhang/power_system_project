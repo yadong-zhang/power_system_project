{
 "cells": [
  {
   "cell_type": "code",
   "execution_count": 1,
   "metadata": {},
   "outputs": [],
   "source": [
    "import random\n",
    "import numpy as np\n",
    "import pandas as pd\n",
    "import matplotlib.pyplot as plt\n",
    "\n",
    "import pandapower as pp\n",
    "from pandapower.networks import case2848rte\n",
    "\n",
    "from sklearn.preprocessing import StandardScaler    \n",
    "import joblib"
   ]
  },
  {
   "cell_type": "markdown",
   "metadata": {},
   "source": [
    "#### Set random seed"
   ]
  },
  {
   "cell_type": "code",
   "execution_count": 2,
   "metadata": {},
   "outputs": [],
   "source": [
    "seed = 10\n",
    "random.seed(seed)\n",
    "np.random.seed(seed)"
   ]
  },
  {
   "cell_type": "markdown",
   "metadata": {},
   "source": [
    "#### Load power grid"
   ]
  },
  {
   "cell_type": "code",
   "execution_count": 3,
   "metadata": {},
   "outputs": [
    {
     "name": "stderr",
     "output_type": "stream",
     "text": [
      "/Users/yadongzhang/Library/Python/3.9/lib/python/site-packages/pandapower/file_io.py:99: FutureWarning: save is not part of the public API, usage can give unexpected results and will be removed in a future version\n",
      "  writer.save()\n"
     ]
    }
   ],
   "source": [
    "## Load the power grid\n",
    "net = case2848rte()\n",
    "\n",
    "## Save the oroiginal graph_structure\n",
    "pp.to_excel(net, 'graph_structure/original_graph_structure.xlsx')"
   ]
  },
  {
   "cell_type": "markdown",
   "metadata": {},
   "source": [
    "#### Set node features"
   ]
  },
  {
   "cell_type": "code",
   "execution_count": 4,
   "metadata": {},
   "outputs": [],
   "source": [
    "## Create DataFrame to store graph_structure data\n",
    "graph_structure = pd.DataFrame()\n",
    "\n",
    "## Set graph_structure index (0-indexed)\n",
    "graph_structure.index = np.arange(net.bus.shape[0])"
   ]
  },
  {
   "cell_type": "code",
   "execution_count": 5,
   "metadata": {},
   "outputs": [
    {
     "data": {
      "text/plain": [
       "['graph_structure/geo_scaler.pkl']"
      ]
     },
     "execution_count": 5,
     "metadata": {},
     "output_type": "execute_result"
    }
   ],
   "source": [
    "## Set voltage for all buses\n",
    "# Original bus index maybe not sorted\n",
    "net.bus.sort_index(inplace=True)\n",
    "# Normalize vn_kv\n",
    "vn_kv_scaler = StandardScaler()\n",
    "normalized_vn_kv = vn_kv_scaler.fit_transform(net.bus.vn_kv.to_numpy().reshape((-1, 1))) \n",
    "# Original bus index may not range from 0 to net.bus.shape[0]-1\n",
    "graph_structure['vn_kv'] = normalized_vn_kv    \n",
    "# Save vn_kv scaler\n",
    "joblib.dump(vn_kv_scaler, 'graph_structure/vn_kv_scaler.pkl')  \n",
    "\n",
    "## Set power demand at load buses\n",
    "# net.load.index = net.load.bus\n",
    "graph_structure['load_p_mw'] = 0\n",
    "\n",
    "## Set max and min power generation for all generators\n",
    "# net.gen.index = net.gen.bus\n",
    "graph_structure['max_gen_p_mw'] = 0\n",
    "graph_structure['min_gen_p_mw'] = 0\n",
    "\n",
    "# Get features from 'ext_grid' (ext_grid bus no: 68)\n",
    "# net.ext_grid.index = net.ext_grid.bus\n",
    "# graph_structure['max_gen_p_mw'][net.ext_grid.index.values] = net.ext_grid.max_p_mw\n",
    "# graph_structure['min_gen_p_mw'][net.ext_grid.index.values] = net.ext_grid.min_p_mw\n",
    "\n",
    "## Set power generation cost for all generators\n",
    "# This needs manual work\n",
    "poly_cost = pd.read_csv('graph_structure/_poly_cost.csv', index_col=0, header=0)\n",
    "# net.poly_cost.index = poly_cost_index.values.reshape((-1))\n",
    "graph_structure['price_1'] = poly_cost.poly_cost1\n",
    "graph_structure['price_2'] = poly_cost.poly_cost2\n",
    "# graph_structure['price_2'] = net.poly_cost.cp2_eur_per_mw2\n",
    "\n",
    "## Set locations for all buses\n",
    "# Original bus index maybe not sorted\n",
    "net.bus_geodata.sort_index(inplace=True)\n",
    "# Normalize geo_data\n",
    "geo_scaler = StandardScaler()\n",
    "normalized_geodata = geo_scaler.fit_transform(net.bus_geodata[['x', 'y']])\n",
    "graph_structure['x_pos'] = normalized_geodata[:, 0]\n",
    "graph_structure['y_pos'] = normalized_geodata[:, 1]\n",
    "# Save geo_data scaler\n",
    "joblib.dump(geo_scaler, 'graph_structure/geo_scaler.pkl')"
   ]
  },
  {
   "attachments": {},
   "cell_type": "markdown",
   "metadata": {},
   "source": [
    "#### Get transmission line and transformer index and attributes"
   ]
  },
  {
   "cell_type": "code",
   "execution_count": 6,
   "metadata": {},
   "outputs": [],
   "source": [
    "## Transmission lines\n",
    "branch = net.line[['from_bus', 'to_bus']]\n",
    "branch_attr = net.line[['c_nf_per_km', 'r_ohm_per_km', 'x_ohm_per_km']]\n",
    "\n",
    "## Transformers\n",
    "trafo = net.trafo[['hv_bus', 'lv_bus']]\n",
    "trafo_attr = net.trafo[['sn_mva', 'tap_neutral', 'tap_pos', 'tap_step_percent', 'vk_percent']]"
   ]
  },
  {
   "cell_type": "markdown",
   "metadata": {},
   "source": [
    "#### Normalize transmission line and transformer attributes"
   ]
  },
  {
   "cell_type": "code",
   "execution_count": 7,
   "metadata": {},
   "outputs": [],
   "source": [
    "## Normalize transmission line attributes\n",
    "branch_scaler = StandardScaler()\n",
    "branch_attr_normalized = branch_scaler.fit_transform(branch_attr)\n",
    "\n",
    "## Normalize transformer attributes\n",
    "trafo_scaler = StandardScaler()\n",
    "trafo_attr_normalized = trafo_scaler.fit_transform(trafo_attr)"
   ]
  },
  {
   "cell_type": "markdown",
   "metadata": {},
   "source": [
    "#### Save node and edge informartion"
   ]
  },
  {
   "cell_type": "code",
   "execution_count": 8,
   "metadata": {},
   "outputs": [
    {
     "data": {
      "text/plain": [
       "['graph_structure/trafo_attr_scaler.pkl']"
      ]
     },
     "execution_count": 8,
     "metadata": {},
     "output_type": "execute_result"
    }
   ],
   "source": [
    "## Save graph_structure\n",
    "graph_structure.to_csv('graph_structure/graph_structure.csv')\n",
    "\n",
    "## Save branch data\n",
    "branch.to_csv('graph_structure/branch_index.csv')\n",
    "branch_attr.to_csv('graph_structure/branch_attr.csv')\n",
    "pd.DataFrame(branch_attr_normalized).to_csv('graph_structure/branch_attr_normalized.csv')\n",
    "joblib.dump(branch_scaler, 'graph_structure/branch_attr_scaler.pkl')\n",
    "\n",
    "## Save trafoormer data\n",
    "trafo.to_csv('graph_structure/trafo_index.csv')\n",
    "trafo_attr.to_csv('graph_structure/trafo_attr.csv')\n",
    "pd.DataFrame(trafo_attr_normalized).to_csv('graph_structure/trafo_attr_normalized.csv')\n",
    "joblib.dump(trafo_scaler, 'graph_structure/trafo_attr_scaler.pkl')"
   ]
  }
 ],
 "metadata": {
  "kernelspec": {
   "display_name": "PyG-cpu",
   "language": "python",
   "name": "python3"
  },
  "language_info": {
   "codemirror_mode": {
    "name": "ipython",
    "version": 3
   },
   "file_extension": ".py",
   "mimetype": "text/x-python",
   "name": "python",
   "nbconvert_exporter": "python",
   "pygments_lexer": "ipython3",
   "version": "3.9.6"
  },
  "orig_nbformat": 4,
  "vscode": {
   "interpreter": {
    "hash": "0ebd134e15d76493047932f0f66970ea5bf0c8c21adec6bf2f9cae99b663e329"
   }
  }
 },
 "nbformat": 4,
 "nbformat_minor": 2
}
