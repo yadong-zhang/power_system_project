version https://git-lfs.github.com/spec/v1
oid sha256:88fa2d9a142f156c9a67e7fb39de6d01d14364681a3c8b8f99b914839f970011
size 8769
