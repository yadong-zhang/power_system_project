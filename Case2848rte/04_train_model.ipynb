{
 "cells": [
  {
   "cell_type": "code",
   "execution_count": 1,
   "metadata": {},
   "outputs": [],
   "source": [
    "import time\n",
    "import random\n",
    "import numpy as np\n",
    "import matplotlib.pyplot as plt\n",
    "\n",
    "import torch\n",
    "from torch.functional import F\n",
    "from torch_geometric.nn import to_hetero\n",
    "from torch_geometric.loader import DataLoader"
   ]
  },
  {
   "cell_type": "markdown",
   "metadata": {},
   "source": [
    "#### Set random seed"
   ]
  },
  {
   "cell_type": "code",
   "execution_count": 2,
   "metadata": {},
   "outputs": [],
   "source": [
    "seed = 10\n",
    "random.seed(seed)\n",
    "np.random.seed(seed)\n",
    "torch.manual_seed(seed)\n",
    "torch.cuda.manual_seed_all(seed)"
   ]
  },
  {
   "cell_type": "markdown",
   "metadata": {},
   "source": [
    "#### Set device and parameters"
   ]
  },
  {
   "cell_type": "code",
   "execution_count": 3,
   "metadata": {},
   "outputs": [],
   "source": [
    "# Set hyper-parameters\n",
    "input_dim = 8\n",
    "hidden_dim = 64\n",
    "output_dim = 1\n",
    "\n",
    "# Set batch size\n",
    "batch_size = 10\n",
    "\n",
    "# Set device\n",
    "device = 'cuda:0' if torch.cuda.is_available() else 'cpu'\n",
    "\n",
    "## Directory of the dataset\n",
    "train_dir = f'train_dataset'\n",
    "test_dir = f'test_dataset'"
   ]
  },
  {
   "cell_type": "markdown",
   "metadata": {},
   "source": [
    "#### Load train and test data"
   ]
  },
  {
   "cell_type": "code",
   "execution_count": 4,
   "metadata": {},
   "outputs": [],
   "source": [
    "from CustomDataset import CustomDataset"
   ]
  },
  {
   "cell_type": "code",
   "execution_count": 5,
   "metadata": {},
   "outputs": [],
   "source": [
    "train_dataset = CustomDataset(root=train_dir, data_list=[])\n",
    "train_loader = DataLoader(train_dataset, batch_size=batch_size, shuffle=True)\n",
    "\n",
    "test_dataset = CustomDataset(root=test_dir, data_list=[])\n",
    "test_loader = DataLoader(test_dataset, batch_size=batch_size, shuffle=False)"
   ]
  },
  {
   "cell_type": "markdown",
   "metadata": {},
   "source": [
    "#### Load model"
   ]
  },
  {
   "cell_type": "code",
   "execution_count": 6,
   "metadata": {},
   "outputs": [
    {
     "data": {
      "text/plain": [
       "GraphModule(\n",
       "  (conv1): ModuleDict(\n",
       "    (node__branch__node): GCNConv(8, 64)\n",
       "    (node__trafo__node): GCNConv(8, 64)\n",
       "  )\n",
       "  (batch_norm1): ModuleDict(\n",
       "    (node): BatchNorm(64)\n",
       "  )\n",
       "  (instance_norm1): ModuleDict(\n",
       "    (node): InstanceNorm(64)\n",
       "  )\n",
       "  (layer_norm1): ModuleDict(\n",
       "    (node): LayerNorm(64, affine=True, mode=graph)\n",
       "  )\n",
       "  (conv2): ModuleDict(\n",
       "    (node__branch__node): GCNConv(64, 64)\n",
       "    (node__trafo__node): GCNConv(64, 64)\n",
       "  )\n",
       "  (batch_norm2): ModuleDict(\n",
       "    (node): BatchNorm(64)\n",
       "  )\n",
       "  (instance_norm2): ModuleDict(\n",
       "    (node): InstanceNorm(64)\n",
       "  )\n",
       "  (layer_norm2): ModuleDict(\n",
       "    (node): LayerNorm(64, affine=True, mode=graph)\n",
       "  )\n",
       "  (conv3): ModuleDict(\n",
       "    (node__branch__node): GCNConv(64, 1)\n",
       "    (node__trafo__node): GCNConv(64, 1)\n",
       "  )\n",
       "  (batch_norm3): ModuleDict(\n",
       "    (node): BatchNorm(1)\n",
       "  )\n",
       "  (instance_norm3): ModuleDict(\n",
       "    (node): InstanceNorm(1)\n",
       "  )\n",
       "  (layer_norm3): ModuleDict(\n",
       "    (node): LayerNorm(1, affine=True, mode=graph)\n",
       "  )\n",
       ")"
      ]
     },
     "execution_count": 6,
     "metadata": {},
     "output_type": "execute_result"
    }
   ],
   "source": [
    "from GNNModel import GNNModel\n",
    "\n",
    "model = GNNModel(input_dim, hidden_dim, output_dim)\n",
    "model = to_hetero(module=model, \n",
    "                  metadata=train_loader.dataset[0].metadata(), \n",
    "                  aggr='mean')\n",
    "model.to(device)\n",
    "model"
   ]
  },
  {
   "cell_type": "markdown",
   "metadata": {},
   "source": [
    "#### Train model"
   ]
  },
  {
   "cell_type": "code",
   "execution_count": 8,
   "metadata": {},
   "outputs": [
    {
     "name": "stderr",
     "output_type": "stream",
     "text": [
      "/var/folders/cn/s2z4sz3n33n4m238vt6kj7j40000gn/T/ipykernel_54774/837642837.py:23: UserWarning: Using a target size (torch.Size([2170])) that is different to the input size (torch.Size([2170, 1])). This will likely lead to incorrect results due to broadcasting. Please ensure they have the same size.\n",
      "  loss = F.mse_loss(out['node'][loader.mask], loader['node'].y)\n"
     ]
    }
   ],
   "source": [
    "# Set number of epochs\n",
    "epochs = 10\n",
    "\n",
    "# Set optimizer\n",
    "optimizer = torch.optim.Adam(\n",
    "    model.parameters(), \n",
    "    lr=0.001, \n",
    "    weight_decay=1e-4\n",
    ")\n",
    "\n",
    "# Set model to training mode\n",
    "model.train()\n",
    "\n",
    "# Model training\n",
    "epoch_loss = []\n",
    "start_time = time.time()\n",
    "\n",
    "for epoch in range(epochs):\n",
    "    batch_loss = []\n",
    "    for loader in train_loader:\n",
    "        loader.to(device)\n",
    "        optimizer.zero_grad()\n",
    "        out = model(loader.x_dict, loader.edge_index_dict)\n",
    "        loss = F.mse_loss(out['node'][loader.mask], loader['node'].y)\n",
    "        loss.backward()\n",
    "        optimizer.step()\n",
    "        batch_loss.append(loss.item())\n",
    "    epoch_loss.append(np.mean(batch_loss))\n",
    "\n",
    "end_time = time.time()\n",
    "training_time = (end_time - start_time)/60"
   ]
  },
  {
   "cell_type": "code",
   "execution_count": 9,
   "metadata": {},
   "outputs": [
    {
     "data": {
      "image/png": "[encoded data removed]",
      "text/plain": [
       "<Figure size 500x300 with 1 Axes>"
      ]
     },
     "metadata": {},
     "output_type": "display_data"
    }
   ],
   "source": [
    "plt.figure(figsize=(5, 3))\n",
    "plt.plot(epoch_loss)\n",
    "plt.yscale('log')\n",
    "plt.xlabel('Epoch')\n",
    "plt.ylabel('MSE loss')\n",
    "plt.title(f'Training time: {training_time:.2f}')\n",
    "plt.show()\n",
    "plt.close('all')"
   ]
  }
 ],
 "metadata": {
  "kernelspec": {
   "display_name": "Python 3.8.13 ('PyG-cpu')",
   "language": "python",
   "name": "python3"
  },
  "language_info": {
   "codemirror_mode": {
    "name": "ipython",
    "version": 3
   },
   "file_extension": ".py",
   "mimetype": "text/x-python",
   "name": "python",
   "nbconvert_exporter": "python",
   "pygments_lexer": "ipython3",
   "version": "3.9.6"
  },
  "orig_nbformat": 4,
  "vscode": {
   "interpreter": {
    "hash": "0ebd134e15d76493047932f0f66970ea5bf0c8c21adec6bf2f9cae99b663e329"
   }
  }
 },
 "nbformat": 4,
 "nbformat_minor": 2
}
