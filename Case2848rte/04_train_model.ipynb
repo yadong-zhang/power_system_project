{
 "cells": [
  {
   "cell_type": "code",
   "execution_count": 1,
   "metadata": {},
   "outputs": [
    {
     "name": "stderr",
     "output_type": "stream",
     "text": [
      "C:\\Users\\zhay109\\AppData\\Roaming\\Python\\Python311\\site-packages\\pandas\\core\\arrays\\masked.py:60: UserWarning: Pandas requires version '1.3.6' or newer of 'bottleneck' (version '1.3.5' currently installed).\n",
      "  from pandas.core import (\n"
     ]
    }
   ],
   "source": [
    "import time\n",
    "import random\n",
    "import numpy as np\n",
    "import pandas as pd\n",
    "import matplotlib.pyplot as plt\n",
    "\n",
    "import torch\n",
    "from torch.functional import F\n",
    "from torch_geometric.nn import to_hetero\n",
    "from torch_geometric.loader import DataLoader"
   ]
  },
  {
   "cell_type": "markdown",
   "metadata": {},
   "source": [
    "#### Set random seed"
   ]
  },
  {
   "cell_type": "code",
   "execution_count": 2,
   "metadata": {},
   "outputs": [],
   "source": [
    "seed = 10\n",
    "random.seed(seed)\n",
    "np.random.seed(seed)\n",
    "torch.manual_seed(seed)\n",
    "torch.cuda.manual_seed_all(seed)"
   ]
  },
  {
   "cell_type": "markdown",
   "metadata": {},
   "source": [
    "#### Set device and parameters"
   ]
  },
  {
   "cell_type": "code",
   "execution_count": 3,
   "metadata": {},
   "outputs": [],
   "source": [
    "# Set hyper-parameters\n",
    "input_dim = 8\n",
    "hidden_dim = 32\n",
    "output_dim = 1\n",
    "\n",
    "# Set batch size\n",
    "batch_size = 10\n",
    "\n",
    "# Set device\n",
    "device = 'cuda:0' if torch.cuda.is_available() else 'cpu'\n",
    "\n",
    "## Directory of the dataset\n",
    "train_dir = f'train_dataset'\n",
    "test_dir = f'test_dataset'"
   ]
  },
  {
   "cell_type": "markdown",
   "metadata": {},
   "source": [
    "#### Load train and test data"
   ]
  },
  {
   "cell_type": "code",
   "execution_count": 4,
   "metadata": {},
   "outputs": [],
   "source": [
    "from CustomDataset import CustomDataset"
   ]
  },
  {
   "cell_type": "code",
   "execution_count": 15,
   "metadata": {},
   "outputs": [],
   "source": [
    "train_dataset = CustomDataset(root=train_dir, data_list=[])\n",
    "train_loader = DataLoader(train_dataset, batch_size=batch_size, shuffle=True)\n",
    "\n",
    "test_dataset = CustomDataset(root=test_dir, data_list=[])\n",
    "test_loader = DataLoader(test_dataset, batch_size=batch_size, shuffle=False)"
   ]
  },
  {
   "cell_type": "markdown",
   "metadata": {},
   "source": [
    "#### Load model"
   ]
  },
  {
   "cell_type": "code",
   "execution_count": 6,
   "metadata": {},
   "outputs": [
    {
     "data": {
      "text/plain": [
       "GraphModule(\n",
       "  (conv1): ModuleDict(\n",
       "    (node__branch__node): GCNConv(8, 32)\n",
       "    (node__trafo__node): GCNConv(8, 32)\n",
       "  )\n",
       "  (bn1): ModuleDict(\n",
       "    (node): BatchNorm(32)\n",
       "  )\n",
       "  (in1): ModuleDict(\n",
       "    (node): InstanceNorm(32)\n",
       "  )\n",
       "  (ln1): ModuleDict(\n",
       "    (node): LayerNorm(32, affine=True, mode=graph)\n",
       "  )\n",
       "  (conv2): ModuleDict(\n",
       "    (node__branch__node): GCNConv(32, 32)\n",
       "    (node__trafo__node): GCNConv(32, 32)\n",
       "  )\n",
       "  (bn2): ModuleDict(\n",
       "    (node): BatchNorm(32)\n",
       "  )\n",
       "  (in2): ModuleDict(\n",
       "    (node): InstanceNorm(32)\n",
       "  )\n",
       "  (ln2): ModuleDict(\n",
       "    (node): LayerNorm(32, affine=True, mode=graph)\n",
       "  )\n",
       "  (conv3): ModuleDict(\n",
       "    (node__branch__node): GCNConv(32, 1)\n",
       "    (node__trafo__node): GCNConv(32, 1)\n",
       "  )\n",
       "  (bn3): ModuleDict(\n",
       "    (node): BatchNorm(1)\n",
       "  )\n",
       "  (in3): ModuleDict(\n",
       "    (node): InstanceNorm(1)\n",
       "  )\n",
       "  (ln3): ModuleDict(\n",
       "    (node): LayerNorm(1, affine=True, mode=graph)\n",
       "  )\n",
       ")"
      ]
     },
     "execution_count": 6,
     "metadata": {},
     "output_type": "execute_result"
    }
   ],
   "source": [
    "from GNNModel import GNNModel\n",
    "\n",
    "model = GNNModel(input_dim, hidden_dim, output_dim)\n",
    "model = to_hetero(module=model, \n",
    "                  metadata=train_loader.dataset[0].metadata(), \n",
    "                  aggr='mean')\n",
    "model.to(device)\n",
    "model"
   ]
  },
  {
   "cell_type": "markdown",
   "metadata": {},
   "source": [
    "#### Train model"
   ]
  },
  {
   "cell_type": "code",
   "execution_count": 7,
   "metadata": {},
   "outputs": [],
   "source": [
    "# Set number of epochs\n",
    "epochs = 1000\n",
    "\n",
    "# Set optimizer\n",
    "optimizer = torch.optim.Adam(\n",
    "    model.parameters(), \n",
    "    lr=0.001, \n",
    "    weight_decay=1e-4\n",
    ")\n",
    "\n",
    "# Set model to training mode\n",
    "model.train()\n",
    "\n",
    "# Model training\n",
    "epoch_loss = []\n",
    "start_time = time.time()\n",
    "\n",
    "for epoch in range(epochs):\n",
    "    batch_loss = []\n",
    "    for loader in train_loader:\n",
    "        loader.to(device)\n",
    "        optimizer.zero_grad()\n",
    "        out = model(loader.x_dict, loader.edge_index_dict)\n",
    "        loss = F.mse_loss(out['node'][loader.mask], loader['node'].y)\n",
    "        loss.backward()\n",
    "        optimizer.step()\n",
    "        batch_loss.append(loss.item())\n",
    "    epoch_loss.append(np.mean(batch_loss))\n",
    "\n",
    "end_time = time.time()\n",
    "training_time = (end_time - start_time)/60"
   ]
  },
  {
   "cell_type": "code",
   "execution_count": 8,
   "metadata": {},
   "outputs": [
    {
     "data": {
      "image/png": "[encoded data removed]",
      "text/plain": [
       "<Figure size 500x300 with 1 Axes>"
      ]
     },
     "metadata": {},
     "output_type": "display_data"
    }
   ],
   "source": [
    "fig = plt.figure(figsize=(5, 3))\n",
    "ax = fig.add_subplot(111)\n",
    "\n",
    "ax.plot(epoch_loss)\n",
    "ax.set_ylim(3e-3, 1)\n",
    "ax.set_yscale('log')\n",
    "\n",
    "\n",
    "ax.set_xlabel('Epochs')\n",
    "ax.set_ylabel('MSE loss')\n",
    "\n",
    "plt.tight_layout()\n",
    "plt.show()\n",
    "plt.close('all')"
   ]
  },
  {
   "cell_type": "markdown",
   "metadata": {},
   "source": [
    "#### Save model"
   ]
  },
  {
   "cell_type": "code",
   "execution_count": 9,
   "metadata": {},
   "outputs": [],
   "source": [
    "torch.save(model, 'trained_model/trained_model.pt')"
   ]
  },
  {
   "cell_type": "markdown",
   "metadata": {},
   "source": [
    "#### Test model"
   ]
  },
  {
   "cell_type": "code",
   "execution_count": 10,
   "metadata": {},
   "outputs": [],
   "source": [
    "## Set evaluation mode\n",
    "model.eval()\n",
    "\n",
    "with torch.no_grad():\n",
    "    y_true = []\n",
    "    y_pred = []\n",
    "    for loader in test_loader:\n",
    "        loader.to(device)\n",
    "        out = model(loader.x_dict, loader.edge_index_dict)\n",
    "        y_true.append(loader['node'].y.cpu().numpy())\n",
    "        y_pred.append(out['node'][loader.mask].cpu().numpy())"
   ]
  },
  {
   "cell_type": "code",
   "execution_count": 11,
   "metadata": {},
   "outputs": [],
   "source": [
    "## Save model predictions\n",
    "y_true = np.array(y_true).reshape((300, -1)).T\n",
    "y_pred = np.array(y_pred).reshape((300, -1)).T\n",
    "\n",
    "pd.DataFrame(y_true).to_csv('model_prediction/y_true.csv', \n",
    "                            index=False,\n",
    "                            header=False)\n",
    "pd.DataFrame(y_pred).to_csv('model_prediction/y_pred.csv', \n",
    "                            index=False,\n",
    "                            header=False)"
   ]
  },
  {
   "cell_type": "code",
   "execution_count": 12,
   "metadata": {},
   "outputs": [],
   "source": [
    "error = np.abs((y_true - y_pred) / y_true) * 100\n",
    "error = error.flatten()"
   ]
  },
  {
   "cell_type": "code",
   "execution_count": 13,
   "metadata": {},
   "outputs": [
    {
     "data": {
      "image/png": "[encoded data removed]",
      "text/plain": [
       "<Figure size 500x300 with 1 Axes>"
      ]
     },
     "metadata": {},
     "output_type": "display_data"
    }
   ],
   "source": [
    "fig = plt.figure(figsize=(5, 3))\n",
    "ax = fig.add_subplot(111)\n",
    "\n",
    "_, _, _ = ax.hist(error, bins=200, alpha=0.7, density=True)\n",
    "ax.set_xlim(0, 50)\n",
    "ax.set_xlabel('Percentage error (%)')\n",
    "ax.set_ylabel('Density')\n",
    "\n",
    "plt.tight_layout()\n",
    "plt.show()\n",
    "plt.close('all')"
   ]
  }
 ],
 "metadata": {
  "kernelspec": {
   "display_name": "Python 3.8.13 ('PyG-cpu')",
   "language": "python",
   "name": "python3"
  },
  "language_info": {
   "codemirror_mode": {
    "name": "ipython",
    "version": 3
   },
   "file_extension": ".py",
   "mimetype": "text/x-python",
   "name": "python",
   "nbconvert_exporter": "python",
   "pygments_lexer": "ipython3",
   "version": "3.11.5"
  },
  "orig_nbformat": 4,
  "vscode": {
   "interpreter": {
    "hash": "0ebd134e15d76493047932f0f66970ea5bf0c8c21adec6bf2f9cae99b663e329"
   }
  }
 },
 "nbformat": 4,
 "nbformat_minor": 2
}
