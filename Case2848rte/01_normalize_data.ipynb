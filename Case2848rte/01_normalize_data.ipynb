{
 "cells": [
  {
   "cell_type": "code",
   "execution_count": 2,
   "metadata": {},
   "outputs": [],
   "source": [
    "import random\n",
    "import numpy as np\n",
    "import pandas as pd\n",
    "import matplotlib.pyplot as plt\n",
    "from sklearn.preprocessing import StandardScaler, MinMaxScaler\n",
    "import joblib   # To save and load scaler"
   ]
  },
  {
   "cell_type": "markdown",
   "metadata": {},
   "source": [
    "#### Set random seed"
   ]
  },
  {
   "cell_type": "code",
   "execution_count": 3,
   "metadata": {},
   "outputs": [],
   "source": [
    "seed = 10\n",
    "random.seed(seed)\n",
    "np.random.seed(seed)"
   ]
  },
  {
   "cell_type": "markdown",
   "metadata": {},
   "source": [
    "#### Normalize load"
   ]
  },
  {
   "cell_type": "code",
   "execution_count": 4,
   "metadata": {},
   "outputs": [
    {
     "data": {
      "text/plain": [
       "['normalized_data/load_scaler.pkl']"
      ]
     },
     "execution_count": 4,
     "metadata": {},
     "output_type": "execute_result"
    }
   ],
   "source": [
    "## Load data\n",
    "file_path = f'synthetic_data_40percent/p_load_data40.csv'\n",
    "p_load_data = pd.read_csv(file_path, index_col=0, header=0).to_numpy()\n",
    "\n",
    "## Normalize data using training data\n",
    "num_load_data = p_load_data.shape[1] # Get number of data points\n",
    "load_train_size = int(0.7*num_load_data)\n",
    "\n",
    "load_scaler = StandardScaler()\n",
    "load_train_normalized = load_scaler.fit_transform(p_load_data[:, :load_train_size].T).T\n",
    "\n",
    "## Normalize testing data\n",
    "load_test_normalized = load_scaler.transform(p_load_data[:, load_train_size:].T).T\n",
    "\n",
    "## Save normalized data\n",
    "pd.DataFrame(load_train_normalized).to_csv('normalized_data/load_train_normalized.csv')\n",
    "pd.DataFrame(load_test_normalized).to_csv('normalized_data/load_test_normalized.csv')\n",
    "\n",
    "## Save scaler\n",
    "joblib.dump(load_scaler, 'normalized_data/load_scaler.pkl')"
   ]
  },
  {
   "cell_type": "markdown",
   "metadata": {},
   "source": [
    "#### Normalize generation data"
   ]
  },
  {
   "cell_type": "code",
   "execution_count": 5,
   "metadata": {},
   "outputs": [
    {
     "data": {
      "text/plain": [
       "['normalized_data/gen_scaler.pkl']"
      ]
     },
     "execution_count": 5,
     "metadata": {},
     "output_type": "execute_result"
    }
   ],
   "source": [
    "## Set scaler number of input features\n",
    "num_features = 369      # Same as the number of generator buses\n",
    "\n",
    "## Set min generator capacity\n",
    "min_gen = 0 * np.ones(num_features)\n",
    "\n",
    "## Set max generator capacity\n",
    "max_gen = 1300 * np.ones(num_features)\n",
    "\n",
    "## Set scaler\n",
    "gen_scaler = MinMaxScaler()\n",
    "gen_scaler.data_min_ = min_gen\n",
    "gen_scaler.data_max_ = max_gen\n",
    "gen_scaler.min_ = 0 * np.ones(num_features)\n",
    "gen_scaler.scale_ = 1 / (max_gen - min_gen)\n",
    "\n",
    "## Save scaler\n",
    "joblib.dump(gen_scaler, 'normalized_data/gen_scaler.pkl')"
   ]
  },
  {
   "cell_type": "code",
   "execution_count": 6,
   "metadata": {},
   "outputs": [],
   "source": [
    "## Load data\n",
    "file_path = f'synthetic_data_40percent/p_gen_data40.csv'\n",
    "p_gen_data = pd.read_csv(file_path, index_col=0, header=0).to_numpy()\n",
    "\n",
    "## Get number of training data\n",
    "num_gen_data = p_gen_data.shape[1] \n",
    "gen_train_size = int(0.7*num_gen_data)\n",
    "\n",
    "## Normalize data using training data\n",
    "gen_train_normalized = gen_scaler.transform(p_gen_data[:, :gen_train_size].T).T\n",
    "\n",
    "## Normalize testing data\n",
    "gen_test_normalized = gen_scaler.transform(p_gen_data[:, gen_train_size:].T).T\n",
    "\n",
    "## Save normalized data\n",
    "pd.DataFrame(gen_train_normalized).to_csv('normalized_data/gen_train_normalized.csv')\n",
    "pd.DataFrame(gen_test_normalized).to_csv('normalized_data/gen_test_normalized.csv')"
   ]
  },
  {
   "cell_type": "code",
   "execution_count": 7,
   "metadata": {},
   "outputs": [],
   "source": [
    "## Load data\n",
    "file_path = f'synthetic_data_40percent/p_max_gen_data40.csv'\n",
    "p_max_gen_data = pd.read_csv(file_path, index_col=0, header=0).to_numpy()\n",
    "\n",
    "## Get number of training data\n",
    "num_max_gen_data = p_max_gen_data.shape[1] \n",
    "max_gen_train_size = int(0.7*num_max_gen_data)\n",
    "\n",
    "## Normalize data using training data\n",
    "max_gen_train_normalized = gen_scaler.transform(p_max_gen_data[:, :max_gen_train_size].T).T\n",
    "\n",
    "## Normalize testing data\n",
    "max_gen_test_normalized = gen_scaler.transform(p_max_gen_data[:, max_gen_train_size:].T).T\n",
    "\n",
    "## Save normalized data\n",
    "pd.DataFrame(max_gen_train_normalized).to_csv('normalized_data/max_gen_train_normalized.csv')\n",
    "pd.DataFrame(max_gen_test_normalized).to_csv('normalized_data/max_gen_test_normalized.csv')"
   ]
  }
 ],
 "metadata": {
  "kernelspec": {
   "display_name": "Python 3",
   "language": "python",
   "name": "python3"
  },
  "language_info": {
   "codemirror_mode": {
    "name": "ipython",
    "version": 3
   },
   "file_extension": ".py",
   "mimetype": "text/x-python",
   "name": "python",
   "nbconvert_exporter": "python",
   "pygments_lexer": "ipython3",
   "version": "3.9.6"
  }
 },
 "nbformat": 4,
 "nbformat_minor": 2
}
