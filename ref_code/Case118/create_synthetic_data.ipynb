{
 "cells": [
  {
   "cell_type": "code",
   "execution_count": 212,
   "metadata": {},
   "outputs": [],
   "source": [
    "import numpy as np\n",
    "import pandas as pd\n",
    "import matplotlib.pyplot as plt\n",
    "\n",
    "from scipy import stats\n",
    "\n",
    "import pandapower as pp\n",
    "from pandapower.networks import case118\n",
    "%config InlineBackend.figure_format = 'png'\n",
    "plt.rcParams['figure.figsize'] = (4, 3)\n",
    "plt.rcParams['font.size'] = 10\n",
    "plt.rcParams['font.family'] = 'Times New Roman'"
   ]
  },
  {
   "cell_type": "code",
   "execution_count": 213,
   "metadata": {},
   "outputs": [],
   "source": [
    "# Run the case file and check if there is any error\n",
    "net = case118()\n",
    "net.gen.max_p_mw = 200.\n",
    "pp.rundcopp(net)"
   ]
  },
  {
   "cell_type": "markdown",
   "metadata": {},
   "source": [
    "#### Set renewable generators"
   ]
  },
  {
   "cell_type": "code",
   "execution_count": 214,
   "metadata": {},
   "outputs": [],
   "source": [
    "#############################################################################################\n",
    "# Manually set renewable generator bus (should be bus no., and should be a 1D array)\n",
    "re_gen_bus = pd.read_csv('subareas/re_gen_bus.csv', index_col=0, header=0).to_numpy().reshape((-1))\n",
    "re_gen_no = np.isin(net.gen.bus.values, re_gen_bus) # Get the element of renewable generators\n",
    "\n",
    "# Get generator bus no. (slack bus included)\n",
    "gen_no = np.isin(net.bus.name-1, net.gen.bus)\n",
    "# Get generator bus no. (including renewable, thermal and slack buses)\n",
    "# slack_gen_no = np.isin(net.bus.name-1, net.gen.bus)\n",
    "\n",
    "# Get load buses no.\n",
    "load_no = np.isin(net.bus.name-1, net.load.bus)\n",
    "\n",
    "# Get buses which are both load and gen\n",
    "load_gen_bus = net.load.bus[np.isin(net.load.bus, net.gen.bus)]\n",
    "#############################################################################################"
   ]
  },
  {
   "cell_type": "code",
   "execution_count": 215,
   "metadata": {},
   "outputs": [],
   "source": [
    "# The array to store 'p_mw' of net.res_bus\n",
    "bus_features = ['p_mw']\n",
    "p_bus_list = np.empty((net.bus.shape[0], len(bus_features)))\n",
    "\n",
    "# The arrry to store corresponding results 'net.res_gen.p_mw' & 'net.res_gen.va_degree'\n",
    "# For the time being, we only consider 'p_mw'\n",
    "# p_gen_features = ['p_mw', 'va_degree']\n",
    "gen_features = ['p_mw']\n",
    "p_gen_list = np.empty((net.gen.shape[0]*len(gen_features), 1))\n",
    "p_max_gen_list = np.empty((net.gen.shape[0], 1))\n",
    "\n",
    "# The array to store p_mw at load buses\n",
    "p_load_list = np.empty((net.load.shape[0], 1))\n",
    "\n",
    "# The array to store corresponding results 'net.res.line...' (there are multiple features in line result).\n",
    "# Only need to keep the following five features in DC OPF.\n",
    "# For the time being, we only care about 'p_mw'\n",
    "# pf_line_features = ['p_from_mw', 'i_ka', 'va_from_degree', 'va_to_degree', 'loading_percent']\n",
    "line_features = ['p_from_mw']\n",
    "pf_line_list = np.empty((net.line.shape[0]*len(line_features), 1))\n",
    "lp_line_list = np.empty((net.line.shape[0], 1))\n",
    "\n",
    "# The array to store slack bus 'max_p_mw'\n",
    "p_slack_max_list = []\n",
    "\n",
    "# Global features\n",
    "shedding_reserve_list = []\n",
    "total_cost_list = []"
   ]
  },
  {
   "cell_type": "code",
   "execution_count": 216,
   "metadata": {},
   "outputs": [],
   "source": [
    "# Load data\n",
    "area1_load_bus = pd.read_csv('subareas/area1_load_bus.csv', index_col=0, header=0).to_numpy()\n",
    "area1_re_gen_bus = pd.read_csv('subareas/area1_re_gen_bus.csv', index_col=0, header=0).to_numpy()\n",
    "\n",
    "area2_load_bus = pd.read_csv('subareas/area2_load_bus.csv', index_col=0, header=0).to_numpy()\n",
    "area2_re_gen_bus = pd.read_csv('subareas/area2_re_gen_bus.csv', index_col=0, header=0).to_numpy()\n",
    "\n",
    "area3_load_bus = pd.read_csv('subareas/area3_load_bus.csv', index_col=0, header=0).to_numpy()\n",
    "area3_re_gen_bus = pd.read_csv('subareas/area3_re_gen_bus.csv', index_col=0, header=0).to_numpy()\n",
    "\n",
    "th_gen_bus = pd.read_csv('subareas/th_gen_bus.csv', index_col=0, header=0).to_numpy()"
   ]
  },
  {
   "attachments": {},
   "cell_type": "markdown",
   "metadata": {},
   "source": [
    "## Generate random variables (samples)"
   ]
  },
  {
   "attachments": {},
   "cell_type": "markdown",
   "metadata": {},
   "source": [
    "#### Zone I - Load"
   ]
  },
  {
   "cell_type": "code",
   "execution_count": 217,
   "metadata": {},
   "outputs": [],
   "source": [
    "## Truncated normal PDF for load demand\n",
    "# Mean\n",
    "mu1 = 30\n",
    "# Standard deviation\n",
    "std1 = 10\n",
    "# Left truncation \n",
    "rv_min1 = 0\n",
    "# Right truncation\n",
    "rv_max1 = mu1 + (mu1 - rv_min1)\n",
    "# Left truncation parameter\n",
    "left_trunc1 = (rv_min1 - mu1)/std1\n",
    "# Right truncation parameter\n",
    "right_trunc1 = (rv_max1 - mu1)/std1\n",
    "# Number of RV\n",
    "num1 = 1000\n",
    "# Generate grid\n",
    "lx1 = np.linspace(rv_min1, rv_max1, num1)\n",
    "# Generate normal RV\n",
    "tn1 = stats.truncnorm(loc=mu1,\n",
    "                      scale=std1,\n",
    "                      a=left_trunc1,\n",
    "                      b=right_trunc1)\n",
    "tn_rv1 = tn1.rvs(size=num1)\n",
    "# Generate normal PDF\n",
    "tn_pdf1 = tn1.pdf(x=lx1)"
   ]
  },
  {
   "attachments": {},
   "cell_type": "markdown",
   "metadata": {},
   "source": [
    "#### Zone II - Load"
   ]
  },
  {
   "cell_type": "code",
   "execution_count": 218,
   "metadata": {},
   "outputs": [],
   "source": [
    "## Truncated normal PDF for load demand\n",
    "# Mean\n",
    "mu2 = 80\n",
    "# Standard deviation\n",
    "std2 = 15\n",
    "# Left truncation \n",
    "rv_min2 = 40\n",
    "# Right truncation\n",
    "rv_max2 = mu2 + (mu2 - rv_min2)\n",
    "# Left truncation parameter\n",
    "left_trunc2 = (rv_min2 - mu2)/std2\n",
    "# Right truncation parameter\n",
    "right_trunc2 = (rv_max2 - mu2)/std2\n",
    "# Number of RV\n",
    "num2 = 1000\n",
    "# Generate grid\n",
    "lx2 = np.linspace(rv_min2, rv_max2, num2)\n",
    "# Generate normal RV\n",
    "tn2 = stats.truncnorm(loc=mu2,\n",
    "                      scale=std2,\n",
    "                      a=left_trunc2,\n",
    "                      b=right_trunc2)\n",
    "tn_rv2 = tn2.rvs(size=num2)\n",
    "# Generate normal PDF\n",
    "tn_pdf2 = tn2.pdf(x=lx2)"
   ]
  },
  {
   "attachments": {},
   "cell_type": "markdown",
   "metadata": {},
   "source": [
    "#### Zone III - Load"
   ]
  },
  {
   "cell_type": "code",
   "execution_count": 219,
   "metadata": {},
   "outputs": [],
   "source": [
    "## Truncated normal PDF for load demand\n",
    "# Mean\n",
    "mu3 = 140\n",
    "# Standard deviation\n",
    "std3 = 20\n",
    "# Left truncation \n",
    "rv_min3 = 80\n",
    "# Right truncation\n",
    "rv_max3 = mu3 + (mu3 - rv_min3)\n",
    "# Left truncation parameter\n",
    "left_trunc3 = (rv_min3 - mu3)/std3\n",
    "# Right truncation parameter\n",
    "right_trunc3 = (rv_max3 - mu3)/std3\n",
    "# Number of RV\n",
    "num3 = 1000\n",
    "# Generate grid\n",
    "lx3 = np.linspace(rv_min3, rv_max3, num3)\n",
    "# Generate normal RV\n",
    "tn3 = stats.truncnorm(loc=mu3,\n",
    "                      scale=std3,\n",
    "                      a=left_trunc3,\n",
    "                      b=right_trunc3)\n",
    "tn_rv3 = tn3.rvs(size=num3)\n",
    "# Generate normal PDF\n",
    "tn_pdf3 = tn3.pdf(x=lx3)"
   ]
  },
  {
   "cell_type": "code",
   "execution_count": 220,
   "metadata": {},
   "outputs": [
    {
     "data": {
      "image/png": "[encoded data removed]",
      "text/plain": [
       "<Figure size 1000x300 with 3 Axes>"
      ]
     },
     "metadata": {},
     "output_type": "display_data"
    }
   ],
   "source": [
    "# Plot normal PDF\n",
    "fig = plt.figure(figsize=(10, 3))\n",
    "ax1 = fig.add_subplot(131)\n",
    "ax1.plot(lx1, tn_pdf1)\n",
    "counts, bins, _ = ax1.hist(tn_rv1, bins=50, density=True)\n",
    "ax1.set_xlabel('Load demand ($MW$)')\n",
    "ax1.set_ylabel('PDF')\n",
    "ax1.set_title('Zone I')\n",
    "\n",
    "ax2 = fig.add_subplot(132)\n",
    "ax2.plot(lx2, tn_pdf2)\n",
    "counts, bins, _ = ax2.hist(tn_rv2, bins=50, density=True)\n",
    "ax2.set_xlabel('Load demand ($MW$)')\n",
    "ax2.set_ylabel('PDF')\n",
    "ax2.set_title('Zone II')\n",
    "\n",
    "ax3 = fig.add_subplot(133)\n",
    "ax3.plot(lx3, tn_pdf3)\n",
    "counts, bins, _ = ax3.hist(tn_rv3, bins=50, density=True)\n",
    "ax3.set_xlabel('Load demand ($MW$)')\n",
    "ax3.set_ylabel('PDF')\n",
    "ax3.set_title('Zone III')\n",
    "\n",
    "plt.tight_layout()\n",
    "plt.show()\n",
    "plt.close('all')"
   ]
  },
  {
   "cell_type": "code",
   "execution_count": 221,
   "metadata": {},
   "outputs": [],
   "source": [
    "## Define func wind speed --> wind energy\n",
    "def wind_P(w):\n",
    "    \"\"\"\n",
    "        input:\n",
    "            w: wind speed (m/s), ndarray\n",
    "        output:\n",
    "            P: wind power (MW), ndarray\n",
    "    \"\"\"\n",
    "    # Check the input type\n",
    "    if type(w) != np.ndarray:\n",
    "        raise TypeError(\"'w' should be 'numpy.ndarray'.\")\n",
    "    # Define output array\n",
    "    P = np.zeros(len(w))\n",
    "    # Set maximum allowed wind power generation\n",
    "    Pr = 200.\n",
    "    # No wind power if w < wi\n",
    "    wi = 0.5\n",
    "    # Wind speed that reaches maximum allowed wind power capacity\n",
    "    wr = 15.\n",
    "    # Convert wind speed to wind power\n",
    "    P = Pr*(w**3 - wi**3)/(wr**3 - wi**3)\n",
    "    # Get index of wind speed less than wi\n",
    "    left_index = (w < wi)\n",
    "    P[left_index] = 0.\n",
    "    # Get index of wind speed bigger than wi\n",
    "    right_index = (w > wr)\n",
    "    P[right_index] = Pr\n",
    "\n",
    "    return P"
   ]
  },
  {
   "cell_type": "code",
   "execution_count": 222,
   "metadata": {},
   "outputs": [
    {
     "data": {
      "image/png": "[encoded data removed]",
      "text/plain": [
       "<Figure size 400x300 with 1 Axes>"
      ]
     },
     "metadata": {},
     "output_type": "display_data"
    }
   ],
   "source": [
    "w = np.linspace(0, 17, 100)\n",
    "P = wind_P(w)\n",
    "plt.plot(w, P)\n",
    "plt.vlines(x=0.5, ymin=0, ymax = 200, color='red', linestyles='dashed')\n",
    "plt.vlines(x=15., ymin=0, ymax = 200, color='red', linestyles='dashed')\n",
    "plt.xlabel('Wind speed ($v$)')\n",
    "plt.ylabel('Wind power ($P$)')\n",
    "plt.tight_layout()\n",
    "plt.show()\n",
    "plt.close('all')"
   ]
  },
  {
   "attachments": {},
   "cell_type": "markdown",
   "metadata": {},
   "source": [
    "#### Zone I - Wind"
   ]
  },
  {
   "cell_type": "code",
   "execution_count": 223,
   "metadata": {},
   "outputs": [],
   "source": [
    "## Truncated Weibull distribution for Wind\n",
    "# Shape parameter\n",
    "shape1 = 2\n",
    "# Scale parameter\n",
    "scale1 = 7\n",
    "# Location parameter\n",
    "loc1 = 0\n",
    "# Left truncation\n",
    "rv_min1 = 0\n",
    "# Right truncation\n",
    "rv_max1 = 18\n",
    "# Left truncation parameter\n",
    "left_trunc1 = (rv_min1 - loc1)/scale1\n",
    "# Right trunction parameter\n",
    "right_trunc1 = (rv_max1 - loc1)/scale1\n",
    "# Number of random variables\n",
    "rv_num1 = 1000\n",
    "# Generate grid\n",
    "lx1 = np.linspace(rv_min1, rv_max1, rv_num1)\n",
    "# Generate truncated Weibull RV\n",
    "twb1 = stats.weibull_min(c=shape1, \n",
    "                         loc=loc1, \n",
    "                         scale=scale1)\n",
    "twb_rv1 = twb1.rvs(size=rv_num1)\n",
    "# Generat truncatd Weibull PDF\n",
    "twb_pdf1 = twb1.pdf(x=lx1)\n",
    "\n",
    "# Calculate wind energy (Assuming Power = cube of speed)\n",
    "wind_power1 = wind_P(twb_rv1)"
   ]
  },
  {
   "attachments": {},
   "cell_type": "markdown",
   "metadata": {},
   "source": [
    "#### Zone II - Wind"
   ]
  },
  {
   "cell_type": "code",
   "execution_count": 224,
   "metadata": {},
   "outputs": [],
   "source": [
    "## Truncated Weibull distribution for Wind\n",
    "# Shape parameter\n",
    "shape2 = 2.5\n",
    "# Scale parameter\n",
    "scale2 = 7\n",
    "# Location parameter\n",
    "loc2 = 0.5\n",
    "# Left truncation\n",
    "rv_min2 = 0\n",
    "# Right truncation\n",
    "rv_max2 = 15\n",
    "# Left truncation parameter\n",
    "left_trunc2 = (rv_min2 - loc2)/scale2\n",
    "# Right trunction parameter\n",
    "right_trunc2 = (rv_max2 - loc2)/scale2\n",
    "# Number of random variables\n",
    "rv_num2 = 1000\n",
    "# Generate grid\n",
    "lx2 = np.linspace(rv_min2, rv_max2, rv_num2)\n",
    "# Generate truncated Weibull RV\n",
    "twb2 = stats.weibull_min(c=shape2, \n",
    "                         loc=loc2, \n",
    "                         scale=scale2)\n",
    "twb_rv2 = twb2.rvs(size=rv_num2)\n",
    "# Generat truncatd Weibull PDF\n",
    "twb_pdf2 = twb2.pdf(x=lx2)\n",
    "\n",
    "# Calculate wind energy (Assuming Power = cube of speed)\n",
    "wind_power2 = wind_P(twb_rv2)"
   ]
  },
  {
   "attachments": {},
   "cell_type": "markdown",
   "metadata": {},
   "source": [
    "#### Zone III - Wind"
   ]
  },
  {
   "cell_type": "code",
   "execution_count": 225,
   "metadata": {},
   "outputs": [],
   "source": [
    "## Truncated Weibull distribution for Wind\n",
    "# Shape parameter\n",
    "shape3 = 3\n",
    "# Scale parameter\n",
    "scale3 = 6\n",
    "# Location parameter\n",
    "loc3 = 1\n",
    "# Left truncation\n",
    "rv_min3 = 0\n",
    "# Right truncation\n",
    "rv_max3 = 16\n",
    "# Left truncation parameter\n",
    "left_trunc3 = (rv_min3 - loc3)/scale3\n",
    "# Right trunction parameter\n",
    "right_trunc3 = (rv_max3 - loc3)/scale3\n",
    "# Number of random variables\n",
    "rv_num3 = 1000\n",
    "# Generate grid\n",
    "lx3 = np.linspace(rv_min3, rv_max3, rv_num3)\n",
    "# Generate truncated Weibull RV\n",
    "twb3 = stats.weibull_min(c=shape3, \n",
    "                         loc=loc3, \n",
    "                         scale=scale3)\n",
    "twb_rv3 = twb3.rvs(size=rv_num3)\n",
    "# Generat truncatd Weibull PDF\n",
    "twb_pdf3 = twb3.pdf(x=lx3)\n",
    "\n",
    "# Calculate wind energy (Assuming Power = cube of speed)\n",
    "wind_power3 = wind_P(twb_rv3)"
   ]
  },
  {
   "cell_type": "code",
   "execution_count": 226,
   "metadata": {},
   "outputs": [
    {
     "data": {
      "image/png": "[encoded data removed]",
      "text/plain": [
       "<Figure size 1000x600 with 6 Axes>"
      ]
     },
     "metadata": {},
     "output_type": "display_data"
    }
   ],
   "source": [
    "# Plot normal PDF\n",
    "fig = plt.figure(figsize=(10, 6))\n",
    "ax1 = fig.add_subplot(231)\n",
    "# ax1.plot(lx1, twb_pdf1)\n",
    "counts, bins, _ = ax1.hist(twb_rv1, bins=50, density=True)\n",
    "ax1.set_xlabel('Wind speed ($m/s$)')\n",
    "ax1.set_ylabel('PDF')\n",
    "ax1.set_title('Zone I')\n",
    "\n",
    "ax2 = fig.add_subplot(232)\n",
    "# ax2.plot(lx2, twb_pdf2)\n",
    "counts, bins, _ = ax2.hist(twb_rv2, bins=50, density=True)\n",
    "ax2.set_xlabel('Wind speed ($m/s$)')\n",
    "ax2.set_ylabel('PDF')\n",
    "ax2.set_title('Zone II')\n",
    "\n",
    "ax3 = fig.add_subplot(233)\n",
    "# ax3.plot(lx3, twb_pdf3)\n",
    "counts, bins, _ = ax3.hist(twb_rv3, bins=50, density=True)\n",
    "ax3.set_xlabel('Wind speed ($m/s$)')\n",
    "ax3.set_ylabel('PDF')\n",
    "ax3.set_title('Zone III')\n",
    "\n",
    "ax4 = fig.add_subplot(234)\n",
    "counts, bins, _ = ax4.hist(wind_power1, bins=50)\n",
    "ax4.set_xlabel('Wind power ($MW$)')\n",
    "ax4.set_ylabel('Histogram')\n",
    "\n",
    "ax5 = fig.add_subplot(235)\n",
    "counts, bins, _ = ax5.hist(wind_power2, bins=50)\n",
    "ax5.set_xlabel('Wind power ($MW$)')\n",
    "ax5.set_ylabel('Histogram')\n",
    "\n",
    "ax6 = fig.add_subplot(236)\n",
    "counts, bins, _ = ax6.hist(wind_power3, bins=50)\n",
    "ax6.set_xlabel('Wind power ($MW$)')\n",
    "ax6.set_ylabel('Histogram')\n",
    "\n",
    "\n",
    "plt.tight_layout()\n",
    "plt.show()\n",
    "plt.close('all')"
   ]
  },
  {
   "cell_type": "code",
   "execution_count": 227,
   "metadata": {},
   "outputs": [],
   "source": [
    "## The correlation matrix is tentatively determined as:\n",
    "corr_mat = np.array([[1., 0.7, 0.5, 0.1, 0.05, 0.03],\n",
    "                     [0.7, 1., 0.4, 0.02, 0.08, 0.05],\n",
    "                     [0.5, 0.4, 1., 0.06, 0.04, 0.1],\n",
    "                     [0.1, 0.02, 0.06, 1., 0.3, 0.4],\n",
    "                     [0.05, 0.08, 0.04, 0.3, 1., 0.6],\n",
    "                     [0.03, 0.05, 0.1, 0.4, 0.6, 1.]])\n",
    "\n",
    "## Set proportions (Only two aggregated random variables will be generated for each zone, i.e., load and wind, \n",
    "## the rest will be calculated via the preset proportion sequence)\n",
    "# Get the number of load and RES buses in each zone\n",
    "L1_num, L2_num, L3_num = 29, 38, 32\n",
    "R1_num, R2_num, R3_num = 3, 7, 6\n",
    "\n",
    "# Set the proportion between loads\n",
    "np.random.seed(10)\n",
    "L1_P = np.random.uniform(0.5, 1.4, size=L1_num)\n",
    "np.random.seed(10)\n",
    "L2_P = np.random.uniform(0.5, 1.4, size=L2_num)\n",
    "np.random.seed(10)\n",
    "L3_P = np.random.uniform(0.5, 1.4, size=L3_num)\n",
    "\n",
    "# Set the proportion between RES\n",
    "np.random.seed(10)\n",
    "R1_P = np.random.uniform(0.5, 1., size=R1_num)\n",
    "np.random.seed(10)\n",
    "R2_P = np.random.uniform(0.5, 1., size=R2_num)\n",
    "np.random.seed(10)\n",
    "R3_P = np.random.uniform(0.5, 1., size=R3_num)\n",
    "\n",
    "# Reset random seed\n",
    "np.random.seed()"
   ]
  },
  {
   "attachments": {},
   "cell_type": "markdown",
   "metadata": {},
   "source": [
    "#### Generate synthetic data"
   ]
  },
  {
   "cell_type": "code",
   "execution_count": 228,
   "metadata": {},
   "outputs": [],
   "source": [
    "## Number of OPF solutions\n",
    "num = 1000\n",
    "\n",
    "## Generate correlated random variables\n",
    "# Generate multivariate normal PDF (In case of standard normal PDF: covariance = correlation)\n",
    "mvnorm = stats.multivariate_normal(cov=corr_mat)\n",
    "mvnorm_rv = mvnorm.rvs(size=num)\n",
    "# Get corresponding CDF\n",
    "rv_cdf = stats.norm.cdf(mvnorm_rv)\n",
    "# Generate RV under target PDFs using inverse CDF\n",
    "L1_ref = tn1.ppf(rv_cdf[:, 0])\n",
    "L2_ref = tn2.ppf(rv_cdf[:, 1])\n",
    "L3_ref = tn3.ppf(rv_cdf[:, 2])\n",
    "R1_ref = wind_P(twb1.ppf(rv_cdf[:, 3]))\n",
    "R2_ref = wind_P(twb2.ppf(rv_cdf[:, 4]))\n",
    "R3_ref = wind_P(twb3.ppf(rv_cdf[:, 5]))\n",
    "\n",
    "while True:\n",
    "    # Generate values for the rest of loads and RES\n",
    "    L1 = L1_P*L1_ref[lp_line_list.shape[1]-1]\n",
    "    L2 = L2_P*L2_ref[lp_line_list.shape[1]-1]\n",
    "    L3 = L3_P*L3_ref[lp_line_list.shape[1]-1]\n",
    "    R1 = R1_P*R1_ref[lp_line_list.shape[1]-1]\n",
    "    R2 = R2_P*R2_ref[lp_line_list.shape[1]-1]\n",
    "    R3 = R3_P*R3_ref[lp_line_list.shape[1]-1]\n",
    "\n",
    "    ## Set p_mw at load buses\n",
    "    net.load.p_mw[np.isin(net.load.bus, area1_load_bus)] = L1\n",
    "    net.load.p_mw[np.isin(net.load.bus, area2_load_bus)] = L2\n",
    "    net.load.p_mw[np.isin(net.load.bus, area3_load_bus)] = L3\n",
    "\n",
    "    ## Set max_p_mw and min_p_mw at re_gen buses\n",
    "    net.gen.max_p_mw[np.isin(net.gen.bus, area1_re_gen_bus)] = R1\n",
    "    net.gen.min_p_mw[np.isin(net.gen.bus, area1_re_gen_bus)] = R1\n",
    "    net.gen.max_p_mw[np.isin(net.gen.bus, area2_re_gen_bus)] = R2\n",
    "    net.gen.min_p_mw[np.isin(net.gen.bus, area2_re_gen_bus)] = R2\n",
    "    net.gen.max_p_mw[np.isin(net.gen.bus, area3_re_gen_bus)] = R3\n",
    "    net.gen.min_p_mw[np.isin(net.gen.bus, area3_re_gen_bus)] = R3\n",
    "\n",
    "    # Set 'max_p_mw' at slack bus at alpha*(the sum of max_p_mw at generator)\n",
    "    if net.load.p_mw.sum() >= net.gen.max_p_mw.sum():\n",
    "        net.ext_grid.max_p_mw = net.load.p_mw.sum() - net.gen.max_p_mw.sum()\n",
    "    else:\n",
    "        net.ext_grid.max_p_mw = 0.\n",
    "\n",
    "    ## Run OPF solver (ignore errors) and collect data\n",
    "    try:\n",
    "        ## Run DCOPP\n",
    "        pp.rundcopp(net)\n",
    "\n",
    "        ## Collect data\n",
    "        # p_mw at load buses\n",
    "        p_load = net.load.p_mw.to_numpy().reshape((-1, 1))\n",
    "        p_load_list = np.concatenate([p_load_list, p_load], axis=1)\n",
    "        # max_p_mw at gen buses\n",
    "        p_max_gen = net.gen.max_p_mw.to_numpy().reshape((-1, 1))\n",
    "        p_max_gen_list = np.concatenate([p_max_gen_list, p_max_gen], axis=1)\n",
    "        # max_p_mw at slack bus\n",
    "        p_slack_max_list.append(net.ext_grid.max_p_mw.values)\n",
    "\n",
    "        ## Collect results\n",
    "        # Results of p_mw at all buses\n",
    "        # order='F' means first index changes fastest while last index changes slowest\n",
    "        p_bus = net.res_bus[bus_features].to_numpy().reshape((-1, len(bus_features)), order='F') \n",
    "        p_bus_list = np.concatenate([p_bus_list, p_bus], axis=1)\n",
    "        # Results of p_mw at gen buses\n",
    "        p_gen = net.res_gen[gen_features].to_numpy().reshape((-1, 1), order='F')  \n",
    "        p_gen_list = np.concatenate([p_gen_list, p_gen], axis=1)\n",
    "        # Results of power flow at all lines\n",
    "        pf_line = net.res_line[line_features].to_numpy().reshape((-1, 1), order='F')\n",
    "        pf_line_list = np.concatenate([pf_line_list, pf_line], axis=1)\n",
    "        # Results of loading percent at all lines\n",
    "        lp_line = net.res_line.loading_percent.to_numpy().reshape((-1, 1))\n",
    "        lp_line_list = np.concatenate([lp_line_list, lp_line], axis=1)\n",
    "        # Results of shedding and reserve\n",
    "        shedding_reserve = net.load.p_mw.sum() - net.gen.max_p_mw.sum()\n",
    "        shedding_reserve_list.append(shedding_reserve)\n",
    "        # Results of total cost\n",
    "        total_cost = net.res_cost/1e3\n",
    "        total_cost_list.append(total_cost)\n",
    "    except:\n",
    "        pass\n",
    "\n",
    "    ## Make sure the target amount of synthetic data is obtained\n",
    "    if lp_line_list.shape[1] == num+1:\n",
    "        break\n",
    "    else:\n",
    "        pass"
   ]
  },
  {
   "cell_type": "markdown",
   "metadata": {},
   "source": [
    "#### Save synthetic data"
   ]
  },
  {
   "cell_type": "code",
   "execution_count": 229,
   "metadata": {},
   "outputs": [],
   "source": [
    "# Save synthetic data (node level)\n",
    "pd.DataFrame(p_load_list[:, 1:]).to_csv('synthetic_data/p_load_data.csv')\n",
    "pd.DataFrame(p_max_gen_list[:, 1:]).to_csv('synthetic_data/p_max_gen_data.csv')\n",
    "pd.DataFrame(p_slack_max_list).to_csv('synthetic_data/p_slack_max_data.csv')\n",
    "pd.DataFrame(p_bus_list[:, len(bus_features):]).to_csv('synthetic_data/p_bus_data.csv')\n",
    "pd.DataFrame(p_gen_list[:, 1:]).to_csv('synthetic_data/p_gen_data.csv')\n",
    "\n",
    "# Save synthetic data (edge level)\n",
    "pd.DataFrame(pf_line_list[:, 1:]).to_csv('synthetic_data/pf_line_data.csv')\n",
    "pd.DataFrame(lp_line_list[:, 1:]).to_csv('synthetic_data/lp_line_data.csv')\n",
    "\n",
    "pd.DataFrame(lp_line_list[:, 1:]).to_csv('reliability_risk/lp_true_corr.csv')\n",
    "\n",
    "# Save synthetic data (graph level)\n",
    "graph_features = pd.concat([pd.Series(shedding_reserve_list, name='shedding_reserve'), \n",
    "                           pd.Series(total_cost_list, name='total_cost(10^3)')], \n",
    "                           axis=1)\n",
    "graph_features.T.to_csv('synthetic_data/graph_features.csv')"
   ]
  },
  {
   "cell_type": "code",
   "execution_count": 230,
   "metadata": {},
   "outputs": [],
   "source": [
    "# Save gen, load bus no\n",
    "pd.Series(re_gen_bus).to_csv('synthetic_data/re_gen_bus.csv')\n",
    "pd.Series(re_gen_no.astype(float)).to_csv('synthetic_data/re_gen_no.csv')\n",
    "pd.Series(gen_no.astype(float)).to_csv('synthetic_data/gen_no.csv')\n",
    "pd.Series(load_no.astype(float)).to_csv('synthetic_data/load_no.csv')"
   ]
  }
 ],
 "metadata": {
  "kernelspec": {
   "display_name": "PyG-cpu",
   "language": "python",
   "name": "python3"
  },
  "language_info": {
   "codemirror_mode": {
    "name": "ipython",
    "version": 3
   },
   "file_extension": ".py",
   "mimetype": "text/x-python",
   "name": "python",
   "nbconvert_exporter": "python",
   "pygments_lexer": "ipython3",
   "version": "3.8.13"
  },
  "orig_nbformat": 4,
  "vscode": {
   "interpreter": {
    "hash": "0ebd134e15d76493047932f0f66970ea5bf0c8c21adec6bf2f9cae99b663e329"
   }
  }
 },
 "nbformat": 4,
 "nbformat_minor": 2
}
