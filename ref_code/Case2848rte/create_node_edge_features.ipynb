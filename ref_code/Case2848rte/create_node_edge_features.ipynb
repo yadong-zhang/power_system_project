{
 "cells": [
  {
   "cell_type": "code",
   "execution_count": 1,
   "metadata": {},
   "outputs": [],
   "source": [
    "import os\n",
    "import random\n",
    "import numpy as np\n",
    "import pandas as pd\n",
    "import matplotlib.pyplot as plt\n",
    "\n",
    "import pandapower as pp\n",
    "from pandapower.networks import case2848rte"
   ]
  },
  {
   "cell_type": "code",
   "execution_count": 2,
   "metadata": {},
   "outputs": [],
   "source": [
    "random.seed(10)\n",
    "np.random.seed(20)"
   ]
  },
  {
   "cell_type": "code",
   "execution_count": 3,
   "metadata": {},
   "outputs": [],
   "source": [
    "# Load any case file you need\n",
    "net = case2848rte()\n",
    "\n",
    "# Same settings as in the synthetic data generation\n",
    "net.sgen.in_service = False\n",
    "net.gen.max_p_mw = 500\n",
    "net.line.max_loading_percent = 10000\n",
    "net.trafo.max_loading_percent = 1e20\n",
    "net.ext_grid.min_p_mw = 0"
   ]
  },
  {
   "cell_type": "code",
   "execution_count": 4,
   "metadata": {},
   "outputs": [],
   "source": [
    "# # Change bus name from 'Name' to 'Bus_no'\n",
    "# net.bus.name.name = 'Bus_no'\n",
    "# # Bus no. starts from 0\n",
    "# net_index = net.bus.name.astype(int) - 1\n",
    "\n",
    "net_index = np.arange(net.bus.shape[0])"
   ]
  },
  {
   "cell_type": "markdown",
   "metadata": {},
   "source": [
    "#### Get node features from the case network"
   ]
  },
  {
   "cell_type": "code",
   "execution_count": 5,
   "metadata": {},
   "outputs": [],
   "source": [
    "# Create DataFrame to store network data\n",
    "network = pd.DataFrame()\n",
    "\n",
    "# Set network index\n",
    "network.index = net_index"
   ]
  },
  {
   "cell_type": "code",
   "execution_count": 6,
   "metadata": {},
   "outputs": [],
   "source": [
    "# Get features from 'bus\n",
    "network['vn_kv'] = net.bus.vn_kv.values\n",
    "\n",
    "# Get features from 'load'\n",
    "net.load.index = net.load.bus\n",
    "network['load_p_mw'] = net.load.p_mw\n",
    "\n",
    "# Get features from 'gen'\n",
    "net.gen.index = net.gen.bus\n",
    "network['max_gen_p_mw'] = net.gen.max_p_mw\n",
    "network['min_gen_p_mw'] = net.gen.min_p_mw\n",
    "\n",
    "# Get features from 'ext_grid' (ext_grid bus no: 68)\n",
    "net.ext_grid.index = net.ext_grid.bus\n",
    "network['max_gen_p_mw'][net.ext_grid.index.values] = net.ext_grid.max_p_mw\n",
    "network['min_gen_p_mw'][net.ext_grid.index.values] = net.ext_grid.min_p_mw\n",
    "\n",
    "# Get features from 'poly_cost'\n",
    "# This needs manual work\n",
    "gen_price = pd.read_csv('./gen_price.csv', index_col=0, header=0)\n",
    "network['price_1'] = gen_price.price_term1\n",
    "network['price_2'] = gen_price.price_term2\n",
    "\n",
    "# Additional features\n",
    "network['x_pos'] = net.bus_geodata.x\n",
    "network['y_pos'] = net.bus_geodata.y"
   ]
  },
  {
   "attachments": {},
   "cell_type": "markdown",
   "metadata": {},
   "source": [
    "#### Get edge index and attributes"
   ]
  },
  {
   "cell_type": "code",
   "execution_count": 7,
   "metadata": {},
   "outputs": [],
   "source": [
    "branch = net.line[['from_bus', 'to_bus']]"
   ]
  },
  {
   "cell_type": "code",
   "execution_count": 8,
   "metadata": {},
   "outputs": [],
   "source": [
    "branch_attr = net.line[['c_nf_per_km', 'r_ohm_per_km', 'x_ohm_per_km']]"
   ]
  },
  {
   "cell_type": "code",
   "execution_count": 9,
   "metadata": {},
   "outputs": [],
   "source": [
    "trafo = net.trafo[['hv_bus', 'lv_bus']]"
   ]
  },
  {
   "cell_type": "code",
   "execution_count": 10,
   "metadata": {},
   "outputs": [],
   "source": [
    "trafo_attr = net.trafo[['sn_mva', 'tap_neutral', 'tap_pos', 'tap_step_percent', 'vk_percent']]"
   ]
  },
  {
   "cell_type": "markdown",
   "metadata": {},
   "source": [
    "#### Save node and edge informartion"
   ]
  },
  {
   "cell_type": "code",
   "execution_count": 11,
   "metadata": {},
   "outputs": [],
   "source": [
    "network.to_csv('network/node_features.csv')\n",
    "branch.to_csv('network/branch_index.csv')\n",
    "branch_attr.to_csv('network/branch_attr.csv')\n",
    "trafo.to_csv('network/trafo_index.csv')\n",
    "trafo_attr.to_csv('network/trafo_attr.csv')"
   ]
  },
  {
   "attachments": {},
   "cell_type": "markdown",
   "metadata": {},
   "source": [
    "#### Save normalized data and scaler"
   ]
  },
  {
   "cell_type": "code",
   "execution_count": 12,
   "metadata": {},
   "outputs": [
    {
     "data": {
      "text/plain": [
       "['network/trafo_attr_scaler.scaler']"
      ]
     },
     "execution_count": 12,
     "metadata": {},
     "output_type": "execute_result"
    }
   ],
   "source": [
    "from sklearn.preprocessing import MinMaxScaler\n",
    "import joblib\n",
    "\n",
    "# Normalize branch atrributes\n",
    "branch_attr_scaler = MinMaxScaler()\n",
    "branch_attr_scaled = branch_attr_scaler.fit_transform(branch_attr)\n",
    "pd.DataFrame(branch_attr_scaled).to_csv('network/branch_attr_scaled.csv')\n",
    "joblib.dump(branch_attr_scaler, 'network/branch_attr_scaler.scaler')\n",
    "\n",
    "# Normalize transformer attributes\n",
    "trafo_attr_scaler = MinMaxScaler()\n",
    "trafo_attr_scaled = trafo_attr_scaler.fit_transform(trafo_attr)\n",
    "pd.DataFrame(trafo_attr_scaled).to_csv('network/trafo_attr_scaled.csv')\n",
    "joblib.dump(trafo_attr_scaler, 'network/trafo_attr_scaler.scaler')"
   ]
  }
 ],
 "metadata": {
  "kernelspec": {
   "display_name": "PyG-cpu",
   "language": "python",
   "name": "python3"
  },
  "language_info": {
   "codemirror_mode": {
    "name": "ipython",
    "version": 3
   },
   "file_extension": ".py",
   "mimetype": "text/x-python",
   "name": "python",
   "nbconvert_exporter": "python",
   "pygments_lexer": "ipython3",
   "version": "3.9.6"
  },
  "orig_nbformat": 4,
  "vscode": {
   "interpreter": {
    "hash": "0ebd134e15d76493047932f0f66970ea5bf0c8c21adec6bf2f9cae99b663e329"
   }
  }
 },
 "nbformat": 4,
 "nbformat_minor": 2
}
