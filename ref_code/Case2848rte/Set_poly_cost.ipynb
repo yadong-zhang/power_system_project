version https://git-lfs.github.com/spec/v1
oid sha256:d08c8c45f04563cea423260e4b01c295564a542daddd8e6553056e6941f91fa2
size 1604
