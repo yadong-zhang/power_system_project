{
 "cells": [
  {
   "cell_type": "code",
   "execution_count": 374,
   "metadata": {},
   "outputs": [],
   "source": [
    "import random\n",
    "import numpy as np\n",
    "import pandas as pd\n",
    "import matplotlib.pyplot as plt\n",
    "\n",
    "import pandapower as pp\n",
    "from pandapower.networks import case2848rte"
   ]
  },
  {
   "cell_type": "code",
   "execution_count": 375,
   "metadata": {},
   "outputs": [],
   "source": [
    "random.seed(10)\n",
    "np.random.seed(20)"
   ]
  },
  {
   "cell_type": "code",
   "execution_count": 376,
   "metadata": {},
   "outputs": [],
   "source": [
    "net =case2848rte()\n",
    "\n",
    "# Get the generator buses\n",
    "gen_bus = net.gen.bus.values"
   ]
  },
  {
   "cell_type": "code",
   "execution_count": 377,
   "metadata": {},
   "outputs": [],
   "source": [
    "gen_price = pd.DataFrame()\n",
    "\n",
    "gen_price.index = np.sort(gen_bus)\n",
    "\n",
    "gen_price['price_term1'] = np.random.uniform(10, 20, len(gen_bus))\n",
    "gen_price['price_term2'] = np.random.uniform(0.1, 0.5, len(gen_bus))\n",
    "\n",
    "gen_price.to_csv('gen_price.csv', index_label='gen_bus')"
   ]
  }
 ],
 "metadata": {
  "kernelspec": {
   "display_name": "base",
   "language": "python",
   "name": "python3"
  },
  "language_info": {
   "codemirror_mode": {
    "name": "ipython",
    "version": 3
   },
   "file_extension": ".py",
   "mimetype": "text/x-python",
   "name": "python",
   "nbconvert_exporter": "python",
   "pygments_lexer": "ipython3",
   "version": "3.9.6"
  }
 },
 "nbformat": 4,
 "nbformat_minor": 2
}
