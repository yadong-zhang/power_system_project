{
 "cells": [
  {
   "cell_type": "code",
   "execution_count": 1,
   "metadata": {},
   "outputs": [],
   "source": [
    "import random\n",
    "import numpy as np\n",
    "import pandas as pd\n",
    "import matplotlib.pyplot as plt\n",
    "\n",
    "import seaborn as sns\n",
    "\n",
    "import torch\n",
    "import torch.nn as nn\n",
    "from torch.functional import F\n",
    "from torch_geometric.nn import GCNConv, GATConv\n",
    "from torch_geometric.data import Data, HeteroData\n",
    "from torch_geometric.loader import DataListLoader, DataLoader\n",
    "from torch_geometric.utils.convert import to_networkx\n",
    "import networkx as nx\n",
    "\n",
    "from sklearn.preprocessing import MinMaxScaler"
   ]
  },
  {
   "cell_type": "code",
   "execution_count": 2,
   "metadata": {},
   "outputs": [],
   "source": [
    "%config InlineBackend.figure_format = 'png2x'\n",
    "plt.style.use('../plot_style.mplstyle')"
   ]
  },
  {
   "cell_type": "code",
   "execution_count": 3,
   "metadata": {},
   "outputs": [],
   "source": [
    "random.seed(10)\n",
    "np.random.seed(20)"
   ]
  },
  {
   "cell_type": "code",
   "execution_count": 4,
   "metadata": {},
   "outputs": [],
   "source": [
    "# Load network data: node features, edge_features and edge_index\n",
    "node_features = pd.read_csv('network/node_features.csv', index_col=0, header=0)\n",
    "node_features = node_features.astype(np.float64).fillna(value=0)\n",
    "branch_index = pd.read_csv('network/branch_index.csv', index_col=0, header=0)\n",
    "trafo_index = pd.read_csv('network/trafo_index.csv', index_col=0, header=0)\n",
    "branch_attr = pd.read_csv('network/branch_attr.csv', index_col=0, header=0)\n",
    "trafo_attr = pd.read_csv('network/trafo_attr.csv', index_col=0, header=0)"
   ]
  },
  {
   "cell_type": "code",
   "execution_count": 5,
   "metadata": {},
   "outputs": [
    {
     "data": {
      "text/plain": [
       "((2848, 8), (2993, 2), (783, 2), (2993, 3), (783, 5))"
      ]
     },
     "execution_count": 5,
     "metadata": {},
     "output_type": "execute_result"
    }
   ],
   "source": [
    "node_features.shape, branch_index.shape, trafo_index.shape, branch_attr.shape, trafo_attr.shape"
   ]
  },
  {
   "cell_type": "code",
   "execution_count": 6,
   "metadata": {},
   "outputs": [],
   "source": [
    "branch_index = torch.tensor(branch_index.to_numpy().T, dtype=torch.long)\n",
    "trafo_index = torch.tensor(trafo_index.to_numpy().T, dtype=torch.long)"
   ]
  },
  {
   "cell_type": "code",
   "execution_count": 7,
   "metadata": {},
   "outputs": [
    {
     "data": {
      "text/plain": [
       "(1388, 1000)"
      ]
     },
     "execution_count": 7,
     "metadata": {},
     "output_type": "execute_result"
    }
   ],
   "source": [
    "# Load synthetic 'p_mw' at load buses\n",
    "p_load_data = pd.read_csv('synthetic_data/p_load_data.csv', index_col=0, header=0)\n",
    "p_load_data.shape"
   ]
  },
  {
   "cell_type": "code",
   "execution_count": 8,
   "metadata": {},
   "outputs": [
    {
     "data": {
      "text/plain": [
       "(369, 1000)"
      ]
     },
     "execution_count": 8,
     "metadata": {},
     "output_type": "execute_result"
    }
   ],
   "source": [
    "# Load synthetic 'p_mw' at generator buses\n",
    "p_gen_data = pd.read_csv('synthetic_data/p_gen_data.csv', index_col=0, header=0)\n",
    "p_gen_data.shape"
   ]
  },
  {
   "cell_type": "code",
   "execution_count": 9,
   "metadata": {},
   "outputs": [
    {
     "data": {
      "text/plain": [
       "(2848, 1000)"
      ]
     },
     "execution_count": 9,
     "metadata": {},
     "output_type": "execute_result"
    }
   ],
   "source": [
    "# Load scaled 'p_mw' at all buses\n",
    "p_bus_data = pd.read_csv('synthetic_data/p_bus_data.csv', index_col=0, header=0)\n",
    "p_bus_data.shape"
   ]
  },
  {
   "cell_type": "code",
   "execution_count": 10,
   "metadata": {},
   "outputs": [
    {
     "data": {
      "text/plain": [
       "(1000, 1)"
      ]
     },
     "execution_count": 10,
     "metadata": {},
     "output_type": "execute_result"
    }
   ],
   "source": [
    "p_slack_max_data = pd.read_csv('synthetic_data/p_slack_max_data.csv', index_col=0, header=0)\n",
    "p_slack_max_data.shape"
   ]
  },
  {
   "cell_type": "code",
   "execution_count": 11,
   "metadata": {},
   "outputs": [],
   "source": [
    "## All bus\n",
    "bus = np.arange(node_features.shape[0])\n",
    "\n",
    "## All gen bus\n",
    "gen_bus = pd.read_csv('zones/gen_bus.csv', \n",
    "                      index_col=None, \n",
    "                      header=None).to_numpy()\n",
    "gen_bus = gen_bus.reshape((-1)) - 1\n",
    "# Gen bus mask\n",
    "gen_no = np.isin(bus, gen_bus)\n",
    "\n",
    "# All load bus\n",
    "load_bus = pd.read_csv('zones/load_bus.csv', \n",
    "                       index_col=None, \n",
    "                       header=None).to_numpy()\n",
    "load_bus = load_bus.reshape((-1)) - 1\n",
    "# Load bus mask\n",
    "load_no = np.isin(bus, load_bus)\n",
    "\n",
    "# Wind bus\n",
    "re_gen_bus = pd.read_csv('zones/wind_bus.csv', \n",
    "                         index_col=None, \n",
    "                         header=None).to_numpy()\n",
    "re_gen_bus = re_gen_bus.reshape((-1)) - 1\n",
    "# Wind bus mask\n",
    "re_gen_no = np.isin(gen_bus, re_gen_bus)\n",
    "not_re_gen_no = ~re_gen_no"
   ]
  },
  {
   "cell_type": "code",
   "execution_count": 12,
   "metadata": {},
   "outputs": [
    {
     "data": {
      "text/plain": [
       "((69,), (369,), (369,), (2848,), (2848,))"
      ]
     },
     "execution_count": 12,
     "metadata": {},
     "output_type": "execute_result"
    }
   ],
   "source": [
    "re_gen_bus.shape, re_gen_no.shape, not_re_gen_no.shape, gen_no.shape, load_no.shape"
   ]
  },
  {
   "attachments": {},
   "cell_type": "markdown",
   "metadata": {},
   "source": [
    "#### Node prediction dataset"
   ]
  },
  {
   "cell_type": "code",
   "execution_count": 13,
   "metadata": {},
   "outputs": [],
   "source": [
    "# Store multiple Data() in a list\n",
    "data_list = []\n",
    "\n",
    "for i in range(p_load_data.shape[1]):\n",
    "    node_features['load_p_mw'][load_no] = p_load_data.iloc[:, i].values\n",
    "    node_features['max_gen_p_mw'][re_gen_bus] = p_gen_data.iloc[re_gen_no, i].values\n",
    "    node_features['min_gen_p_mw'][re_gen_bus] = p_gen_data.iloc[re_gen_no, i].values\n",
    "    node_features['max_gen_p_mw'][271] = p_slack_max_data.iloc[i].values\n",
    "\n",
    "    X = node_features.to_numpy()\n",
    "    y = p_bus_data.iloc[:, i].to_numpy()\n",
    "    X = torch.from_numpy(X).float()\n",
    "    y = torch.from_numpy(y.reshape((-1))).float()\n",
    "\n",
    "    data = HeteroData()\n",
    "    data['node'].x = X\n",
    "    data['node'].y = y\n",
    "\n",
    "    # Set edge index\n",
    "    data['node', 'branch', 'node'].edge_index = branch_index\n",
    "    data['node', 'trafo', 'node'].edge_index = trafo_index\n",
    "    data['node', 'branch', 'node'].edge_attr = torch.from_numpy(branch_attr.to_numpy()).float()\n",
    "    data['node', 'trafo', 'node'].edge_attr = torch.from_numpy(trafo_attr.to_numpy()).float()\n",
    "    \n",
    "    data_list.append(data)"
   ]
  },
  {
   "cell_type": "code",
   "execution_count": 14,
   "metadata": {},
   "outputs": [],
   "source": [
    "## Save train and test dataset\n",
    "train_size = int(0.7*len(data_list))\n",
    "val_size = int(0.1*len(data_list))\n",
    "test_size = int(0.2*len(data_list))\n",
    "\n",
    "# Create PyTorch Geometric DataLoader()\n",
    "batch_size = 1\n",
    "train_data_loader = DataLoader(dataset=data_list[:train_size], batch_size=batch_size, shuffle=False)\n",
    "val_data_loader = DataLoader(dataset=data_list[train_size:train_size+val_size], batch_size=batch_size, shuffle=False)\n",
    "test_data_loader = DataLoader(dataset=data_list[-test_size:], batch_size=batch_size, shuffle=False)\n",
    "\n",
    "# Save train and test datasets\n",
    "torch.save(train_data_loader, 'train_test_dataset/node_prediction_train_dataset.pt')\n",
    "torch.save(val_data_loader, 'train_test_dataset/node_prediction_val_dataset.pt')\n",
    "torch.save(test_data_loader, 'train_test_dataset/node_prediction_test_dataset.pt')"
   ]
  }
 ],
 "metadata": {
  "kernelspec": {
   "display_name": "Python 3.8.13 ('PyG-cpu')",
   "language": "python",
   "name": "python3"
  },
  "language_info": {
   "codemirror_mode": {
    "name": "ipython",
    "version": 3
   },
   "file_extension": ".py",
   "mimetype": "text/x-python",
   "name": "python",
   "nbconvert_exporter": "python",
   "pygments_lexer": "ipython3",
   "version": "3.9.6"
  },
  "orig_nbformat": 4,
  "vscode": {
   "interpreter": {
    "hash": "0ebd134e15d76493047932f0f66970ea5bf0c8c21adec6bf2f9cae99b663e329"
   }
  }
 },
 "nbformat": 4,
 "nbformat_minor": 2
}
