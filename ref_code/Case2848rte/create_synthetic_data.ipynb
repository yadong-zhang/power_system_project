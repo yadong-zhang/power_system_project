version https://git-lfs.github.com/spec/v1
oid sha256:b8c449ab30b95881c38d6614101a85e4db777df04ad08335bfb7263344a95e64
size 432219
