{
 "cells": [
  {
   "cell_type": "code",
   "execution_count": 1,
   "metadata": {},
   "outputs": [],
   "source": [
    "import time\n",
    "import logging\n",
    "\n",
    "import numpy as np\n",
    "import pandas as pd\n",
    "import matplotlib.pyplot as plt\n",
    "\n",
    "import seaborn as sns\n",
    "\n",
    "import torch\n",
    "from torch.functional import F\n",
    "from torch_geometric.nn import GCNConv, GATConv, SAGEConv, Linear, to_hetero\n",
    "from torch_geometric.data import Data\n",
    "import torch_geometric.transforms as T\n",
    "from torch_geometric.utils.convert import to_networkx\n",
    "import networkx as nx\n",
    "\n",
    "import joblib"
   ]
  },
  {
   "cell_type": "code",
   "execution_count": 2,
   "metadata": {},
   "outputs": [],
   "source": [
    "class GNN_model(torch.nn.Module):\n",
    "    def __init__(self):\n",
    "        super(GNN_model, self).__init__()\n",
    "        self.conv1 = GCNConv(8, 4)\n",
    "        self.conv2 = GCNConv(4, 2)\n",
    "        self.conv3 = GCNConv(2, 1)\n",
    "        self.flatten = torch.nn.Flatten(start_dim=0)\n",
    "        self.lin = torch.nn.Linear(in_features=118, out_features=118)\n",
    "        # self.clamp = ClampLayer(-594, 594)\n",
    "        \n",
    "    def forward(self, x, edge_index):\n",
    "        x = F.leaky_relu(self.conv1(x, edge_index))\n",
    "        x = F.leaky_relu(self.conv2(x, edge_index))\n",
    "        x = F.leaky_relu(self.conv3(x, edge_index))\n",
    "        x = self.flatten(x)\n",
    "        x = self.lin(x)\n",
    "        # Physical constraints\n",
    "        # x = self.clamp(x)\n",
    "\n",
    "        return x"
   ]
  },
  {
   "cell_type": "markdown",
   "metadata": {},
   "source": [
    "#### Load trained model"
   ]
  },
  {
   "cell_type": "code",
   "execution_count": 3,
   "metadata": {},
   "outputs": [
    {
     "data": {
      "text/plain": [
       "GraphModule(\n",
       "  (conv1): Module(\n",
       "    (node__branch__node): GCNConv(8, 4)\n",
       "    (node__trafo__node): GCNConv(8, 4)\n",
       "  )\n",
       "  (conv2): Module(\n",
       "    (node__branch__node): GCNConv(4, 2)\n",
       "    (node__trafo__node): GCNConv(4, 2)\n",
       "  )\n",
       "  (conv3): Module(\n",
       "    (node__branch__node): GCNConv(2, 1)\n",
       "    (node__trafo__node): GCNConv(2, 1)\n",
       "  )\n",
       "  (flatten): Module(\n",
       "    (node): Flatten(start_dim=0, end_dim=-1)\n",
       "  )\n",
       "  (lin): Module(\n",
       "    (node): Linear(in_features=118, out_features=118, bias=True)\n",
       "  )\n",
       ")"
      ]
     },
     "execution_count": 3,
     "metadata": {},
     "output_type": "execute_result"
    }
   ],
   "source": [
    "# Load trained model and set it to evaluation mode\n",
    "model = torch.load('node_prediction_model_trained.pt')\n",
    "model.eval()"
   ]
  },
  {
   "cell_type": "markdown",
   "metadata": {},
   "source": [
    "#### Load test dataset"
   ]
  },
  {
   "cell_type": "code",
   "execution_count": 4,
   "metadata": {},
   "outputs": [],
   "source": [
    "# Load test dataset\n",
    "test_dataset = torch.load('train_test_dataset/node_prediction_test_dataset.pt')\n",
    "\n",
    "# Get batch size\n",
    "# batch_size = test_dataset.batch_size"
   ]
  },
  {
   "cell_type": "code",
   "execution_count": 5,
   "metadata": {},
   "outputs": [
    {
     "data": {
      "text/plain": [
       "HeteroData(\n",
       "  \u001b[1mnode\u001b[0m={\n",
       "    x=[118, 8],\n",
       "    y=[118]\n",
       "  },\n",
       "  \u001b[1m(node, branch, node)\u001b[0m={\n",
       "    edge_index=[2, 173],\n",
       "    edge_attr=[173, 3]\n",
       "  },\n",
       "  \u001b[1m(node, trafo, node)\u001b[0m={\n",
       "    edge_index=[2, 13],\n",
       "    edge_attr=[13, 5]\n",
       "  }\n",
       ")"
      ]
     },
     "execution_count": 5,
     "metadata": {},
     "output_type": "execute_result"
    }
   ],
   "source": [
    "test_dataset.dataset[0]"
   ]
  },
  {
   "cell_type": "markdown",
   "metadata": {},
   "source": [
    "#### Model evaluation"
   ]
  },
  {
   "cell_type": "code",
   "execution_count": 6,
   "metadata": {},
   "outputs": [],
   "source": [
    "pred_list = []\n",
    "\n",
    "for batch_data in test_dataset.dataset:\n",
    "    # batch_data = T.ToUndirected()(batch_data)\n",
    "    # batch_data = T.AddSelfLoops()(batch_data)\n",
    "    pred = model(batch_data.x_dict, batch_data.edge_index_dict)\n",
    "    pred = pred['node']\n",
    "    # pred = pred['node'].unsqueeze(dim=-1)\n",
    "    pred = pred.detach().numpy()\n",
    "    pred_list.append(pred)"
   ]
  },
  {
   "cell_type": "code",
   "execution_count": 7,
   "metadata": {},
   "outputs": [],
   "source": [
    "## Save prediction\n",
    "node_prediction = np.array(pred_list).T\n",
    "# Save it as the same length as in synthetic data\n",
    "dim = int(node_prediction.shape[0]/1)\n",
    "node_prediction = node_prediction.reshape((dim, -1))"
   ]
  },
  {
   "cell_type": "code",
   "execution_count": 8,
   "metadata": {},
   "outputs": [],
   "source": [
    "# Also save true values\n",
    "node_true = []\n",
    "for data in test_dataset.dataset:\n",
    "    # node_true.append(data['node'].y.detach().numpy())\n",
    "    node_true.append(data['node'].y.squeeze(dim=-1).detach().numpy())\n",
    "\n",
    "node_true = np.array(node_true).T"
   ]
  },
  {
   "cell_type": "code",
   "execution_count": 9,
   "metadata": {},
   "outputs": [],
   "source": [
    "# Save data\n",
    "pd.DataFrame(node_prediction).to_csv('node_pred.csv')\n",
    "pd.DataFrame(node_true).to_csv('node_true.csv')"
   ]
  }
 ],
 "metadata": {
  "kernelspec": {
   "display_name": "Python 3.8.13 ('PyG-cpu')",
   "language": "python",
   "name": "python3"
  },
  "language_info": {
   "codemirror_mode": {
    "name": "ipython",
    "version": 3
   },
   "file_extension": ".py",
   "mimetype": "text/x-python",
   "name": "python",
   "nbconvert_exporter": "python",
   "pygments_lexer": "ipython3",
   "version": "3.8.13"
  },
  "orig_nbformat": 4,
  "vscode": {
   "interpreter": {
    "hash": "0ebd134e15d76493047932f0f66970ea5bf0c8c21adec6bf2f9cae99b663e329"
   }
  }
 },
 "nbformat": 4,
 "nbformat_minor": 2
}
