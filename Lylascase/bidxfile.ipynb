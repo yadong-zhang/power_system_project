{
 "cells": [
  {
   "cell_type": "code",
   "execution_count": 14,
   "metadata": {},
   "outputs": [],
   "source": [
    "import pandas as pd\n",
    "import numpy as np\n",
    "\n",
    "# Load data from provided CSV files\n",
    "wind_bus = pd.read_csv('zones/wind_bus.csv', header=None).to_numpy().flatten()\n",
    "load_bus = pd.read_csv('zones/load_bus.csv', header=None).to_numpy().flatten()\n",
    "thermal_bus = pd.read_csv('zones/thermal_bus.csv', header=None).to_numpy().flatten()  # Assuming 'thermal_bus.csv' includes all generator buses\n",
    "\n",
    "# Combine all unique buses into one array\n",
    "all_buses = np.unique(np.concatenate((wind_bus, load_bus, thermal_bus)))\n",
    "\n",
    "# Create a mask for wind buses in all buses\n",
    "wind_bus_in_all_bidx = np.isin(all_buses, wind_bus)\n",
    "\n",
    "# Create a mask for wind buses in generator (thermal) buses\n",
    "wind_bus_bidx = np.isin(thermal_bus, wind_bus)\n",
    "\n",
    "# Create a mask for thermal (generator) buses in all buses\n",
    "thermal_bus_bidx = np.isin(all_buses, thermal_bus)\n",
    "\n",
    "# Create a mask for load buses in all buses\n",
    "load_bus_bidx = np.isin(all_buses, load_bus)\n",
    "\n",
    "# Save data to CSV files\n",
    "pd.DataFrame(wind_bus).to_csv('graph_structure/_wind_bus.csv', index=False, header=False)\n",
    "pd.DataFrame(wind_bus_bidx.astype(int)).to_csv('graph_structure/_wind_bus_bidx.csv', index=False, header=False)\n",
    "pd.DataFrame(wind_bus_in_all_bidx.astype(int)).to_csv('graph_structure/_wind_bus_in_all_bidx.csv', index=False, header=False)\n",
    "pd.DataFrame(thermal_bus_bidx.astype(int)).to_csv('graph_structure/_thermal_bus_bidx.csv', index=False, header=False)\n",
    "pd.DataFrame(load_bus_bidx.astype(int)).to_csv('graph_structure/_load_bus_bidx.csv', index=False, header=False)\n",
    "\n",
    "\n"
   ]
  }
 ],
 "metadata": {
  "kernelspec": {
   "display_name": "Python 3",
   "language": "python",
   "name": "python3"
  },
  "language_info": {
   "codemirror_mode": {
    "name": "ipython",
    "version": 3
   },
   "file_extension": ".py",
   "mimetype": "text/x-python",
   "name": "python",
   "nbconvert_exporter": "python",
   "pygments_lexer": "ipython3",
   "version": "3.11.6"
  }
 },
 "nbformat": 4,
 "nbformat_minor": 2
}
