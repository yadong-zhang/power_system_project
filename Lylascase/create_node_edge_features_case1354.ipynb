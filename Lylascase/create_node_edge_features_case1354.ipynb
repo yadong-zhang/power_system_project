{
 "cells": [
  {
   "cell_type": "code",
   "execution_count": null,
   "metadata": {},
   "outputs": [],
   "source": [
    "import numpy as np\n",
    "import pandas as pd\n",
    "import matplotlib.pyplot as plt\n",
    "\n",
    "import pandapower as pp\n",
    "from pandapower.networks import case1354pegase"
   ]
  },
  {
   "cell_type": "code",
   "execution_count": null,
   "metadata": {},
   "outputs": [],
   "source": [
    "# Run the case file and check if there is any error\n",
    "net = case1354pegase()\n",
    "\n",
    "# Set the sgen NOT in service\n",
    "net.sgen.in_service = False\n",
    "\n",
    "# Set the maximum and minimum power output of the generator\n",
    "net.gen.max_p_mw = 100\n",
    "net.gen.min_p_mw = 0\n",
    "\n",
    "# maximum line and transformer loading percent determine the convergence\n",
    "# Set maximum line loading percentage\n",
    "net.line.max_loading_percent = 10000\n",
    "\n",
    "# Set transformer loading percent as unlimited\n",
    "net.trafo.max_loading_percent = 1e20\n",
    "\n",
    "# Set min_p_mw at slack bus\n",
    "net.ext_grid.min_p_mw = 0 \n",
    "\n",
    "# Set the sgen NOT in service\n",
    "net.sgen.in_service = False\n",
    "\n",
    "# Set maximum generation capacity\n",
    "net.gen.max_p_mw = 500\n",
    "\n",
    "# maximum line and transformer loading percent determine the convergence\n",
    "# Set maximum line loading percentage\n",
    "net.line.max_loading_percent = 400\n",
    "# Set transformer loading percent as unlimited\n",
    "net.trafo.max_loading_percent = 1e20\n",
    "\n",
    "# Set min_p_mw at slack bus\n",
    "net.ext_grid.min_p_mw = 0\n",
    "\n",
    "pp.rundcopp(net)"
   ]
  },
  {
   "cell_type": "code",
   "execution_count": null,
   "metadata": {},
   "outputs": [],
   "source": [
    "pp.to_excel(net, 'network/case1354_original_network.xlsx')"
   ]
  },
  {
   "cell_type": "code",
   "execution_count": null,
   "metadata": {},
   "outputs": [],
   "source": [
    "# Change bus name from 'Name' to 'Bus_no'\n",
    "net.bus.name.name = 'Bus_no'\n",
    "# Bus no. starts from 0\n",
    "net_index = net.bus.name.astype(int) - 1"
   ]
  },
  {
   "cell_type": "code",
   "execution_count": null,
   "metadata": {},
   "outputs": [],
   "source": [
    "# Create DataFrame to store network data\n",
    "network = pd.DataFrame()\n",
    "\n",
    "# Set network index\n",
    "network.index = net_index"
   ]
  },
  {
   "cell_type": "code",
   "execution_count": null,
   "metadata": {},
   "outputs": [],
   "source": [
    "############################################################################################################\n",
    "\n",
    "# trouble shooting issue with mismatched buses between network and poly_cost_index\n",
    "\n",
    "############################################################################################################\n",
    "\n",
    "\n",
    "\n",
    "# Read poly_cost_index\n",
    "poly_cost_index = pd.read_csv('./network/poly_cost_index.csv', index_col=0, header=0)\n",
    "\n",
    "# Assuming net.poly_cost is already loaded\n",
    "# Filter net.poly_cost to have exactly 54 rows\n",
    "net.poly_cost = net.poly_cost.iloc[:54]\n",
    "\n",
    "# Check the shapes\n",
    "print(\"poly_cost_index shape:\", poly_cost_index.shape)\n",
    "print(\"Adjusted net.poly_cost shape:\", net.poly_cost.shape)\n",
    "\n",
    "# Reshape poly_cost_index and check the length\n",
    "reshaped_index = poly_cost_index.values.reshape((-1))\n",
    "print(\"Reshaped index length:\", len(reshaped_index))\n",
    "\n",
    "# Ensure lengths match before assignment\n",
    "if len(reshaped_index) == net.poly_cost.shape[0]:\n",
    "    net.poly_cost.index = reshaped_index\n",
    "    print(\"Index assignment successful.\")\n",
    "else:\n",
    "    print(f\"Length mismatch: Expected axis has {net.poly_cost.shape[0]} elements, new values have {len(reshaped_index)} elements\")\n",
    "\n",
    "print(poly_cost_index.shape)\n",
    "print(net.poly_cost.shape)\n"
   ]
  },
  {
   "cell_type": "code",
   "execution_count": null,
   "metadata": {},
   "outputs": [],
   "source": [
    "# Get features from 'bus\n",
    "network['vn_kv'] = net.bus.vn_kv.values\n",
    "\n",
    "# Get features from 'load'\n",
    "net.load.index = net.load.bus\n",
    "network['load_p_mw'] = net.load.p_mw\n",
    "\n",
    "# Get features from 'gen'\n",
    "net.gen.index = net.gen.bus\n",
    "network['max_gen_p_mw'] = net.gen.max_p_mw\n",
    "network['min_gen_p_mw'] = net.gen.min_p_mw\n",
    "\n",
    "# Get features from 'ext_grid' (ext_grid bus no: 68)\n",
    "net.ext_grid.index = net.ext_grid.bus\n",
    "network['max_gen_p_mw'][net.ext_grid.index.values] = net.ext_grid.max_p_mw\n",
    "network['min_gen_p_mw'][net.ext_grid.index.values] = net.ext_grid.min_p_mw\n",
    "\n",
    "# Get features from 'poly_cost'\n",
    "# This needs manual work\n",
    "poly_cost_index = pd.read_csv('./network/poly_cost_index.csv', index_col=0, header=0)\n",
    "net.poly_cost.index = poly_cost_index.values.reshape((-1))\n",
    "network['price_1'] = net.poly_cost.cp1_eur_per_mw\n",
    "network['price_2'] = net.poly_cost.cp2_eur_per_mw2\n",
    "\n",
    "# Additional features\n",
    "\n",
    "network['x_pos'] = net.bus_geodata.x\n",
    "network['y_pos'] = net.bus_geodata.y"
   ]
  },
  {
   "cell_type": "code",
   "execution_count": null,
   "metadata": {},
   "outputs": [],
   "source": [
    "branch = net.line[['from_bus', 'to_bus']]\n",
    "branch"
   ]
  },
  {
   "cell_type": "code",
   "execution_count": null,
   "metadata": {},
   "outputs": [],
   "source": [
    "## line values are off c_nf\n",
    "\n",
    "\n",
    "branch_attr = net.line[['c_nf_per_km', 'r_ohm_per_km', 'x_ohm_per_km']]\n",
    "branch_attr"
   ]
  },
  {
   "cell_type": "code",
   "execution_count": null,
   "metadata": {},
   "outputs": [],
   "source": [
    "\n",
    "trafo = net.trafo[['hv_bus', 'lv_bus']]\n",
    "trafo"
   ]
  },
  {
   "cell_type": "markdown",
   "metadata": {},
   "source": []
  },
  {
   "cell_type": "code",
   "execution_count": null,
   "metadata": {},
   "outputs": [],
   "source": [
    "trafo_attr = net.trafo[['sn_mva', 'tap_neutral', 'tap_pos', 'tap_step_percent', 'vk_percent']]\n",
    "trafo_attr"
   ]
  },
  {
   "cell_type": "markdown",
   "metadata": {},
   "source": []
  },
  {
   "cell_type": "code",
   "execution_count": null,
   "metadata": {},
   "outputs": [],
   "source": [
    "network.to_csv('network/node_features.csv')\n",
    "branch.to_csv('network/branch_index.csv')\n",
    "branch_attr.to_csv('network/branch_attr.csv')\n",
    "trafo.to_csv('network/trafo_index.csv')\n",
    "trafo_attr.to_csv('network/trafo_attr.csv')"
   ]
  },
  {
   "cell_type": "code",
   "execution_count": null,
   "metadata": {},
   "outputs": [],
   "source": [
    "from sklearn.preprocessing import MinMaxScaler\n",
    "import joblib\n",
    "\n",
    "# Normalize branch atrributes\n",
    "branch_attr_scaler = MinMaxScaler()\n",
    "branch_attr_scaled = branch_attr_scaler.fit_transform(branch_attr)\n",
    "pd.DataFrame(branch_attr_scaled).to_csv('network/branch_attr_scaled.csv')\n",
    "joblib.dump(branch_attr_scaler, 'network/branch_attr_scaler.scaler')\n",
    "\n",
    "# Normalize transformer attributes\n",
    "trafo_attr_scaler = MinMaxScaler()\n",
    "trafo_attr_scaled = trafo_attr_scaler.fit_transform(trafo_attr)\n",
    "pd.DataFrame(trafo_attr_scaled).to_csv('network/trafo_attr_scaled.csv')\n",
    "joblib.dump(trafo_attr_scaler, 'network/trafo_attr_scaler.scaler')"
   ]
  },
  {
   "cell_type": "markdown",
   "metadata": {},
   "source": []
  },
  {
   "cell_type": "markdown",
   "metadata": {},
   "source": []
  }
 ],
 "metadata": {
  "kernelspec": {
   "display_name": "Python 3",
   "language": "python",
   "name": "python3"
  },
  "language_info": {
   "codemirror_mode": {
    "name": "ipython",
    "version": 3
   },
   "file_extension": ".py",
   "mimetype": "text/x-python",
   "name": "python",
   "nbconvert_exporter": "python",
   "pygments_lexer": "ipython3",
   "version": "3.11.6"
  }
 },
 "nbformat": 4,
 "nbformat_minor": 2
}
